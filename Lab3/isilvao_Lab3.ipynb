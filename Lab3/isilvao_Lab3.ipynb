{
  "cells": [
    {
      "cell_type": "code",
      "execution_count": null,
      "metadata": {
        "id": "im-VVd1__7VU",
        "colab": {
          "base_uri": "https://localhost:8080/"
        },
        "outputId": "b7340bcb-7dd5-4e2a-fd9e-357ceb0b22e8"
      },
      "outputs": [
        {
          "output_type": "stream",
          "name": "stdout",
          "text": [
            "processor\t: 0\n",
            "vendor_id\t: GenuineIntel\n",
            "cpu family\t: 6\n",
            "model\t\t: 79\n",
            "model name\t: Intel(R) Xeon(R) CPU @ 2.20GHz\n",
            "stepping\t: 0\n",
            "microcode\t: 0xffffffff\n",
            "cpu MHz\t\t: 2199.998\n",
            "cache size\t: 56320 KB\n",
            "physical id\t: 0\n",
            "siblings\t: 2\n",
            "core id\t\t: 0\n",
            "cpu cores\t: 1\n",
            "apicid\t\t: 0\n",
            "initial apicid\t: 0\n",
            "fpu\t\t: yes\n",
            "fpu_exception\t: yes\n",
            "cpuid level\t: 13\n",
            "wp\t\t: yes\n",
            "flags\t\t: fpu vme de pse tsc msr pae mce cx8 apic sep mtrr pge mca cmov pat pse36 clflush mmx fxsr sse sse2 ss ht syscall nx pdpe1gb rdtscp lm constant_tsc rep_good nopl xtopology nonstop_tsc cpuid tsc_known_freq pni pclmulqdq ssse3 fma cx16 pcid sse4_1 sse4_2 x2apic movbe popcnt aes xsave avx f16c rdrand hypervisor lahf_lm abm 3dnowprefetch invpcid_single ssbd ibrs ibpb stibp fsgsbase tsc_adjust bmi1 hle avx2 smep bmi2 erms invpcid rtm rdseed adx smap xsaveopt arat md_clear arch_capabilities\n",
            "bugs\t\t: cpu_meltdown spectre_v1 spectre_v2 spec_store_bypass l1tf mds swapgs taa mmio_stale_data retbleed\n",
            "bogomips\t: 4399.99\n",
            "clflush size\t: 64\n",
            "cache_alignment\t: 64\n",
            "address sizes\t: 46 bits physical, 48 bits virtual\n",
            "power management:\n",
            "\n",
            "processor\t: 1\n",
            "vendor_id\t: GenuineIntel\n",
            "cpu family\t: 6\n",
            "model\t\t: 79\n",
            "model name\t: Intel(R) Xeon(R) CPU @ 2.20GHz\n",
            "stepping\t: 0\n",
            "microcode\t: 0xffffffff\n",
            "cpu MHz\t\t: 2199.998\n",
            "cache size\t: 56320 KB\n",
            "physical id\t: 0\n",
            "siblings\t: 2\n",
            "core id\t\t: 0\n",
            "cpu cores\t: 1\n",
            "apicid\t\t: 1\n",
            "initial apicid\t: 1\n",
            "fpu\t\t: yes\n",
            "fpu_exception\t: yes\n",
            "cpuid level\t: 13\n",
            "wp\t\t: yes\n",
            "flags\t\t: fpu vme de pse tsc msr pae mce cx8 apic sep mtrr pge mca cmov pat pse36 clflush mmx fxsr sse sse2 ss ht syscall nx pdpe1gb rdtscp lm constant_tsc rep_good nopl xtopology nonstop_tsc cpuid tsc_known_freq pni pclmulqdq ssse3 fma cx16 pcid sse4_1 sse4_2 x2apic movbe popcnt aes xsave avx f16c rdrand hypervisor lahf_lm abm 3dnowprefetch invpcid_single ssbd ibrs ibpb stibp fsgsbase tsc_adjust bmi1 hle avx2 smep bmi2 erms invpcid rtm rdseed adx smap xsaveopt arat md_clear arch_capabilities\n",
            "bugs\t\t: cpu_meltdown spectre_v1 spectre_v2 spec_store_bypass l1tf mds swapgs taa mmio_stale_data retbleed\n",
            "bogomips\t: 4399.99\n",
            "clflush size\t: 64\n",
            "cache_alignment\t: 64\n",
            "address sizes\t: 46 bits physical, 48 bits virtual\n",
            "power management:\n",
            "\n"
          ]
        }
      ],
      "source": [
        "!cat /proc/cpuinfo"
      ]
    },
    {
      "cell_type": "markdown",
      "metadata": {
        "id": "N1ok_-56OjB1"
      },
      "source": [
        "# I Solving the Sum of Two Digits Programming Challenge"
      ]
    },
    {
      "cell_type": "markdown",
      "metadata": {
        "id": "MMY7kmDSO0KM"
      },
      "source": [
        "## C++"
      ]
    },
    {
      "cell_type": "code",
      "execution_count": null,
      "metadata": {
        "colab": {
          "base_uri": "https://localhost:8080/"
        },
        "id": "2pGGf9BkPNIk",
        "outputId": "6a30930d-879f-454d-9450-b59a7e386fc9"
      },
      "outputs": [
        {
          "output_type": "stream",
          "name": "stdout",
          "text": [
            "Writing APlusB.cpp\n"
          ]
        }
      ],
      "source": [
        "%%writefile APlusB.cpp\n",
        "#include <iostream>\n",
        "\n",
        "int sum_of_two_digits(int first_digit, int second_digit) {\n",
        "    return first_digit + second_digit;\n",
        "}\n",
        "\n",
        "int main() {\n",
        "    int a = 0;\n",
        "    int b = 0;\n",
        "    std::cin >> a;\n",
        "    std::cin >> b;\n",
        "    std::cout << sum_of_two_digits(a, b);\n",
        "    return 0;\n",
        "}"
      ]
    },
    {
      "cell_type": "code",
      "execution_count": 17,
      "metadata": {
        "id": "0G3ZKOYAPXSU",
        "colab": {
          "base_uri": "https://localhost:8080/"
        },
        "outputId": "31f2d369-52bb-4457-c939-0fe62af1f5ca"
      },
      "outputs": [
        {
          "output_type": "stream",
          "name": "stdout",
          "text": [
            "^C\n"
          ]
        }
      ],
      "source": [
        "!g++ APlusB.cpp -o APlusB -std=c++11\n",
        "!./APlusB"
      ]
    },
    {
      "cell_type": "markdown",
      "metadata": {
        "id": "iNkG2HqfTl9c"
      },
      "source": [
        "### Test input output files"
      ]
    },
    {
      "cell_type": "code",
      "execution_count": null,
      "metadata": {
        "colab": {
          "base_uri": "https://localhost:8080/"
        },
        "id": "aTzU2efzMxly",
        "outputId": "d112bd7e-fa35-434c-ade0-b820a6e88dc2"
      },
      "outputs": [
        {
          "output_type": "stream",
          "name": "stdout",
          "text": [
            "Writing input1.txt\n"
          ]
        }
      ],
      "source": [
        "%%writefile input1.txt\n",
        "4 8"
      ]
    },
    {
      "cell_type": "code",
      "execution_count": null,
      "metadata": {
        "colab": {
          "base_uri": "https://localhost:8080/"
        },
        "id": "zBJ0Gc0NQRet",
        "outputId": "85bd445e-c268-4cd9-c5d7-c13ac3546843"
      },
      "outputs": [
        {
          "output_type": "stream",
          "name": "stdout",
          "text": [
            "Writing output1.txt\n"
          ]
        }
      ],
      "source": [
        "%%writefile output1.txt\n",
        "12"
      ]
    },
    {
      "cell_type": "code",
      "execution_count": null,
      "metadata": {
        "colab": {
          "base_uri": "https://localhost:8080/"
        },
        "id": "IjEcIx63PJAN",
        "outputId": "66f9f95b-9803-42ce-f715-ef9ee1378945"
      },
      "outputs": [
        {
          "output_type": "stream",
          "name": "stdout",
          "text": [
            "Writing input2.txt\n"
          ]
        }
      ],
      "source": [
        "%%writefile input2.txt\n",
        "0 9"
      ]
    },
    {
      "cell_type": "code",
      "execution_count": null,
      "metadata": {
        "colab": {
          "base_uri": "https://localhost:8080/"
        },
        "id": "Up9gOrxURTmd",
        "outputId": "22355cf8-be1b-486c-fec6-b4f1e1069cb0"
      },
      "outputs": [
        {
          "output_type": "stream",
          "name": "stdout",
          "text": [
            "Writing output2.txt\n"
          ]
        }
      ],
      "source": [
        "%%writefile output2.txt\n",
        "9"
      ]
    },
    {
      "cell_type": "code",
      "execution_count": null,
      "metadata": {
        "colab": {
          "base_uri": "https://localhost:8080/"
        },
        "id": "PST6G-s-Pwgc",
        "outputId": "0cbe7edc-8c7d-426b-cfa6-bb68d0bbcf42"
      },
      "outputs": [
        {
          "output_type": "stream",
          "name": "stdout",
          "text": [
            "12"
          ]
        }
      ],
      "source": [
        "!./APlusB < input1.txt"
      ]
    },
    {
      "cell_type": "code",
      "execution_count": null,
      "metadata": {
        "colab": {
          "base_uri": "https://localhost:8080/"
        },
        "id": "cKxZOjSlRfIN",
        "outputId": "95eef3db-fce0-40c2-beeb-399fe016a6b8"
      },
      "outputs": [
        {
          "output_type": "stream",
          "name": "stdout",
          "text": [
            "9"
          ]
        }
      ],
      "source": [
        "!./APlusB < input2.txt"
      ]
    },
    {
      "cell_type": "markdown",
      "metadata": {
        "id": "Qw2TQWCCUwqk"
      },
      "source": [
        "### Comparing files with grep\n",
        "\n",
        "https://askubuntu.com/questions/546796/comparing-two-text-files"
      ]
    },
    {
      "cell_type": "code",
      "execution_count": null,
      "metadata": {
        "id": "Jlja0Xm4TX9M"
      },
      "outputs": [],
      "source": [
        "!./APlusB < input1.txt> ctest1.txt\n",
        "!grep -xvFf output1.txt ctest1.txt"
      ]
    },
    {
      "cell_type": "code",
      "execution_count": null,
      "metadata": {
        "id": "g9OIUZA_QLCQ"
      },
      "outputs": [],
      "source": [
        "!./APlusB < input2.txt > ctest2.txt\n",
        "!grep -xvFf output2.txt ctest2.txt"
      ]
    },
    {
      "cell_type": "markdown",
      "metadata": {
        "id": "3BgOaDjUVJk6"
      },
      "source": [
        "## Python"
      ]
    },
    {
      "cell_type": "code",
      "execution_count": null,
      "metadata": {
        "colab": {
          "base_uri": "https://localhost:8080/"
        },
        "id": "DBvl-T0CTN_8",
        "outputId": "f9aae27e-cfd7-4b0f-f881-3510dcc776de"
      },
      "outputs": [
        {
          "output_type": "stream",
          "name": "stdout",
          "text": [
            "Writing sum.py\n"
          ]
        }
      ],
      "source": [
        "%%writefile sum.py\n",
        "# python3\n",
        "\n",
        "def sum_of_two_digits(first_digit, second_digit):\n",
        "    return first_digit + second_digit\n",
        "\n",
        "if __name__ == '__main__':\n",
        "    a, b = map(int, input().split())\n",
        "    print(sum_of_two_digits(a, b))"
      ]
    },
    {
      "cell_type": "code",
      "execution_count": null,
      "metadata": {
        "colab": {
          "base_uri": "https://localhost:8080/"
        },
        "id": "QKoKM11_WGyF",
        "outputId": "9d419103-a5bf-40b2-807f-b9a936bbdb5b"
      },
      "outputs": [
        {
          "output_type": "stream",
          "name": "stdout",
          "text": [
            "Traceback (most recent call last):\n",
            "  File \"/content/sum.py\", line 7, in <module>\n",
            "    a, b = map(int, input().split())\n",
            "KeyboardInterrupt\n",
            "^C\n"
          ]
        }
      ],
      "source": [
        "!python sum.py"
      ]
    },
    {
      "cell_type": "code",
      "execution_count": null,
      "metadata": {
        "id": "cocFbPRTWrqt"
      },
      "outputs": [],
      "source": [
        "!python sum.py  < input1.txt> ptest1.txt\n",
        "!grep -xvFf output1.txt ptest1.txt"
      ]
    },
    {
      "cell_type": "code",
      "execution_count": null,
      "metadata": {
        "id": "MorKTa-XXASN"
      },
      "outputs": [],
      "source": [
        "!python sum.py  < input2.txt> ptest2.txt\n",
        "!grep -xvFf output2.txt ptest2.txt"
      ]
    },
    {
      "cell_type": "markdown",
      "metadata": {
        "id": "uvP-mOubW_5F"
      },
      "source": [
        "# II Solving The Maximum Pairwise Product Programming Challenge in C++"
      ]
    },
    {
      "cell_type": "markdown",
      "metadata": {
        "id": "C12yoFR6Xonl"
      },
      "source": [
        "## C++\n",
        "\n",
        "$$ T(n) < 6 n^2 = O(n^2)$$"
      ]
    },
    {
      "cell_type": "code",
      "source": [
        "%%writefile max_pairwise_product_full.cpp\n",
        "#include <iostream>\n",
        "#include <vector>\n",
        "#include <algorithm>\n",
        "\n",
        "int MaxPairwiseProduct(const std::vector<int>& numbers) {\n",
        "    int max_product = 0;\n",
        "    int aux_product = 0;\n",
        "    int n = numbers.size();\n",
        "\n",
        "    for (int first = 0; first < n; ++first) {\n",
        "        for (int second = 0; second < n; ++second) {\n",
        "          if ( first != second ){\n",
        "                aux_product = numbers[first] * numbers[second];\n",
        "                if (aux_product > max_product)  max_product = aux_product;\n",
        "          }\n",
        "        }\n",
        "    }\n",
        "\n",
        "    return max_product;\n",
        "}\n",
        "\n",
        "int main() {\n",
        "    int n;\n",
        "    std::cin >> n;\n",
        "    std::vector<int> numbers(n);\n",
        "    for (int i = 0; i < n; ++i) {\n",
        "        std::cin >> numbers[i];\n",
        "    }\n",
        "\n",
        "    std::cout << MaxPairwiseProduct(numbers) << \"\\n\";\n",
        "    return 0;\n",
        "}"
      ],
      "metadata": {
        "colab": {
          "base_uri": "https://localhost:8080/"
        },
        "id": "3LpfoGv2Ae81",
        "outputId": "7fe5ee36-d7a0-4202-9d77-b68754a3be25"
      },
      "execution_count": null,
      "outputs": [
        {
          "output_type": "stream",
          "name": "stdout",
          "text": [
            "Writing max_pairwise_product_full.cpp\n"
          ]
        }
      ]
    },
    {
      "cell_type": "markdown",
      "metadata": {
        "id": "m75IQQPbEHBS"
      },
      "source": [
        "#### Time Complexity\n",
        "$$\\left. \\begin{array}{llc}\n",
        " \\text{INSTRUCTION} & \\text{TYPE}& \\text{# EXECUTIONS}\\\\\n",
        "\\text{first != second} &  \\text{comparisons} &n^2 \\\\\n",
        "\\text{numbers[first] * numbers[second]}& \\ \\text{ products}  &n^2 - n \\\\\n",
        "\\text{max_product = aux_product} &  \\text{assigments} & [1, \\frac{n^2 - n}{2})  \n",
        "\\end{array}\\right\\}  =  O(n^2)$$"
      ]
    },
    {
      "cell_type": "code",
      "source": [
        "!g++ max_pairwise_product_full.cpp -o max_pairwise_product_full\n",
        "!./max_pairwise_product_full"
      ],
      "metadata": {
        "id": "PCVo1h6nCF9k",
        "colab": {
          "base_uri": "https://localhost:8080/"
        },
        "outputId": "3312c628-8d9c-433a-ce22-f2b066062fda"
      },
      "execution_count": null,
      "outputs": [
        {
          "output_type": "stream",
          "name": "stdout",
          "text": [
            "^C\n"
          ]
        }
      ]
    },
    {
      "cell_type": "markdown",
      "metadata": {
        "id": "e7KhxHGNS3i0"
      },
      "source": [
        "### Test 1: Small numbers"
      ]
    },
    {
      "cell_type": "code",
      "source": [
        "%%writefile input0.txt\n",
        "10\n",
        "0 0 0 0 0 0 0 0 0 0"
      ],
      "metadata": {
        "id": "17npyXt7lYzA",
        "colab": {
          "base_uri": "https://localhost:8080/"
        },
        "outputId": "889aa918-e470-4b5e-98db-2d816220ddd4"
      },
      "execution_count": 18,
      "outputs": [
        {
          "output_type": "stream",
          "name": "stdout",
          "text": [
            "Writing input0.txt\n"
          ]
        }
      ]
    },
    {
      "cell_type": "code",
      "source": [
        "%%writefile output0.txt\n",
        "0"
      ],
      "metadata": {
        "colab": {
          "base_uri": "https://localhost:8080/"
        },
        "id": "NooGEkJylezm",
        "outputId": "41f0c416-7639-4bfc-ef91-93c65ba4e2e2"
      },
      "execution_count": 19,
      "outputs": [
        {
          "output_type": "stream",
          "name": "stdout",
          "text": [
            "Writing output0.txt\n"
          ]
        }
      ]
    },
    {
      "cell_type": "code",
      "source": [
        "!./max_pairwise_product_full< input0.txt > ctest0.txt\n",
        "!grep -xvFf output0.txt ctest0.txt"
      ],
      "metadata": {
        "id": "R0yFaAOrlqrE"
      },
      "execution_count": 20,
      "outputs": []
    },
    {
      "cell_type": "code",
      "execution_count": 21,
      "metadata": {
        "colab": {
          "base_uri": "https://localhost:8080/"
        },
        "id": "e1mmTzBgShT-",
        "outputId": "ac3c9232-1153-4023-a093-68fc720c6828"
      },
      "outputs": [
        {
          "output_type": "stream",
          "name": "stdout",
          "text": [
            "Overwriting input1.txt\n"
          ]
        }
      ],
      "source": [
        "%%writefile input1.txt\n",
        "10\n",
        "1 2 3 4 5 6 7 8 9 10"
      ]
    },
    {
      "cell_type": "code",
      "execution_count": 22,
      "metadata": {
        "colab": {
          "base_uri": "https://localhost:8080/"
        },
        "id": "vy_uI0x7TCId",
        "outputId": "f242c8f9-20ce-4fe3-e910-d774d0d8c7ee"
      },
      "outputs": [
        {
          "output_type": "stream",
          "name": "stdout",
          "text": [
            "/bin/bash: line 1: ./max_pairwise_product: No such file or directory\n"
          ]
        }
      ],
      "source": [
        "!./max_pairwise_product < input1.txt"
      ]
    },
    {
      "cell_type": "code",
      "execution_count": 23,
      "metadata": {
        "colab": {
          "base_uri": "https://localhost:8080/"
        },
        "id": "xaj6f9bxC6D6",
        "outputId": "c6e0f650-fbdb-4e71-d782-3b5c51a48131"
      },
      "outputs": [
        {
          "output_type": "stream",
          "name": "stdout",
          "text": [
            "Overwriting output1.txt\n"
          ]
        }
      ],
      "source": [
        "%%writefile output1.txt\n",
        "90"
      ]
    },
    {
      "cell_type": "code",
      "execution_count": 24,
      "metadata": {
        "id": "fYCjAdA_C-wy"
      },
      "outputs": [],
      "source": [
        "!./max_pairwise_product_full< input1.txt > ctest1.txt\n",
        "!grep -xvFf output1.txt ctest1.txt"
      ]
    },
    {
      "cell_type": "code",
      "source": [
        "%%writefile input2.txt\n",
        "10\n",
        "10 9 8 7 6 5 4 3 2 1"
      ],
      "metadata": {
        "colab": {
          "base_uri": "https://localhost:8080/"
        },
        "id": "ZPe40LY14_6f",
        "outputId": "63ce2c7a-a1a4-4376-9e04-d8e4992cec3e"
      },
      "execution_count": 25,
      "outputs": [
        {
          "output_type": "stream",
          "name": "stdout",
          "text": [
            "Overwriting input2.txt\n"
          ]
        }
      ]
    },
    {
      "cell_type": "code",
      "source": [
        "%%writefile output2.txt\n",
        "90"
      ],
      "metadata": {
        "colab": {
          "base_uri": "https://localhost:8080/"
        },
        "id": "xiHmF7HA5Faa",
        "outputId": "02c9baab-54ef-449d-a162-d10c350ed0e9"
      },
      "execution_count": 26,
      "outputs": [
        {
          "output_type": "stream",
          "name": "stdout",
          "text": [
            "Overwriting output2.txt\n"
          ]
        }
      ]
    },
    {
      "cell_type": "code",
      "source": [
        "!./max_pairwise_product_full< input2.txt > ctest2.txt\n",
        "!grep -xvFf output2.txt ctest2.txt"
      ],
      "metadata": {
        "id": "jjwc9kwb5t_k"
      },
      "execution_count": 27,
      "outputs": []
    },
    {
      "cell_type": "markdown",
      "metadata": {
        "id": "IeZ3kTjpYmR9"
      },
      "source": [
        "### Test 2: largest input numbers 200000 200000 to check possible intger overflow"
      ]
    },
    {
      "cell_type": "code",
      "execution_count": 28,
      "metadata": {
        "colab": {
          "base_uri": "https://localhost:8080/"
        },
        "id": "LQNlZqaqYt7U",
        "outputId": "2d883afc-0075-4b10-d0f6-52604533392a"
      },
      "outputs": [
        {
          "output_type": "stream",
          "name": "stdout",
          "text": [
            "Writing input3.txt\n"
          ]
        }
      ],
      "source": [
        "%%writefile input3.txt\n",
        "6\n",
        "1 3 200000 9 200000 23"
      ]
    },
    {
      "cell_type": "code",
      "execution_count": 29,
      "metadata": {
        "colab": {
          "base_uri": "https://localhost:8080/"
        },
        "id": "GjQq7QOUCw-9",
        "outputId": "b546c1ae-2984-4c42-f598-22d32b2fe0d5"
      },
      "outputs": [
        {
          "output_type": "execute_result",
          "data": {
            "text/plain": [
              "40000000000"
            ]
          },
          "metadata": {},
          "execution_count": 29
        }
      ],
      "source": [
        "200000*200000"
      ]
    },
    {
      "cell_type": "code",
      "execution_count": 30,
      "metadata": {
        "colab": {
          "base_uri": "https://localhost:8080/"
        },
        "id": "EuS6n3jtDK5C",
        "outputId": "ec326e09-71e3-4c12-9f80-8d67da296e06"
      },
      "outputs": [
        {
          "output_type": "stream",
          "name": "stdout",
          "text": [
            "Writing output3.txt\n"
          ]
        }
      ],
      "source": [
        "%%writefile output3.txt\n",
        "40000000000"
      ]
    },
    {
      "cell_type": "code",
      "execution_count": 31,
      "metadata": {
        "colab": {
          "base_uri": "https://localhost:8080/"
        },
        "id": "2Wad2VZUZDxR",
        "outputId": "55b38efc-dbfa-4049-db7f-dafce31a5930"
      },
      "outputs": [
        {
          "output_type": "stream",
          "name": "stdout",
          "text": [
            "1345294336\n"
          ]
        }
      ],
      "source": [
        "!./max_pairwise_product_full < input3.txt"
      ]
    },
    {
      "cell_type": "code",
      "execution_count": 32,
      "metadata": {
        "colab": {
          "base_uri": "https://localhost:8080/"
        },
        "id": "pEvp1ieyDJGq",
        "outputId": "42b1a708-f687-466d-dff6-dd874ce76696"
      },
      "outputs": [
        {
          "output_type": "stream",
          "name": "stdout",
          "text": [
            "1345294336\n"
          ]
        }
      ],
      "source": [
        "!./max_pairwise_product_full < input3.txt > ctest3.txt\n",
        "!grep -xvFf output3.txt ctest3.txt"
      ]
    },
    {
      "cell_type": "code",
      "source": [
        " %%writefile run_all_test.sh\n",
        "#!/bin/bash\n",
        "g++ max_pairwise_product_full.cpp -o max_pairwise_product_full\n",
        "for i in {0..3}\n",
        "do\n",
        "    ./max_pairwise_product_full < input$i.txt > ctest$i.txt\n",
        "    grep -xvFf output$i.txt ctest$i.txt\n",
        "done"
      ],
      "metadata": {
        "colab": {
          "base_uri": "https://localhost:8080/"
        },
        "id": "SrtJrKqM-God",
        "outputId": "b2106f16-edcd-4a74-e442-d1e38f2f7aaf"
      },
      "execution_count": 33,
      "outputs": [
        {
          "output_type": "stream",
          "name": "stdout",
          "text": [
            "Writing run_all_test.sh\n"
          ]
        }
      ]
    },
    {
      "cell_type": "code",
      "source": [
        "!chmod u+x run_all_test.sh\n",
        "!./run_all_test.sh"
      ],
      "metadata": {
        "colab": {
          "base_uri": "https://localhost:8080/"
        },
        "id": "wGWMHtzS-QnA",
        "outputId": "8ce8f1df-5378-4d5d-e2ca-1331942d44b7"
      },
      "execution_count": 34,
      "outputs": [
        {
          "output_type": "stream",
          "name": "stdout",
          "text": [
            "1345294336\n"
          ]
        }
      ]
    },
    {
      "cell_type": "markdown",
      "metadata": {
        "id": "H2SC0Qt5HCzz"
      },
      "source": [
        "### Changing the variables to long long"
      ]
    },
    {
      "cell_type": "code",
      "execution_count": 35,
      "metadata": {
        "colab": {
          "base_uri": "https://localhost:8080/"
        },
        "id": "MPcmsxiQZSfE",
        "outputId": "d9be9158-39c7-461a-a261-226fb775d86b"
      },
      "outputs": [
        {
          "output_type": "stream",
          "name": "stdout",
          "text": [
            "Writing max_pairwise_product_long_full.cpp\n"
          ]
        }
      ],
      "source": [
        "%%writefile max_pairwise_product_long_full.cpp\n",
        "#include <iostream>\n",
        "#include <vector>\n",
        "#include <algorithm>\n",
        "\n",
        "long long MaxPairwiseProduct(const std::vector<int>& numbers) {\n",
        "    long long max_product = 0LL;\n",
        "\t  long long aux_product = 0LL;\n",
        "    int n = numbers.size();\n",
        "\n",
        "    for (int first = 0; first < n; ++first) {\n",
        "        for (int second = 0; second < n; ++second) {\n",
        "          if ( first != second){\n",
        "                aux_product = (long long) numbers[first] * numbers[second];\n",
        "                if (aux_product > max_product)  max_product = aux_product;\n",
        "          }\n",
        "        }\n",
        "    }\n",
        "\n",
        "\n",
        "    return max_product;\n",
        "}\n",
        "\n",
        "int main() {\n",
        "    int n;\n",
        "    std::cin >> n;\n",
        "    std::vector<int> numbers(n);\n",
        "    for (int i = 0; i < n; ++i) {\n",
        "        std::cin >> numbers[i];\n",
        "    }\n",
        "\n",
        "    std::cout << MaxPairwiseProduct(numbers) << \"\\n\";\n",
        "    return 0;\n",
        "}\n"
      ]
    },
    {
      "cell_type": "code",
      "source": [
        "!g++ max_pairwise_product_long_full.cpp -o max_pairwise_product_long_full"
      ],
      "metadata": {
        "id": "W3xQpFXL6wjO"
      },
      "execution_count": 36,
      "outputs": []
    },
    {
      "cell_type": "code",
      "source": [
        "!./max_pairwise_product_long_full < input3.txt"
      ],
      "metadata": {
        "colab": {
          "base_uri": "https://localhost:8080/"
        },
        "id": "H5dvN9M3R9sV",
        "outputId": "8a80fada-2abf-4c1a-8921-05a4af1c26a6"
      },
      "execution_count": 37,
      "outputs": [
        {
          "output_type": "stream",
          "name": "stdout",
          "text": [
            "40000000000\n"
          ]
        }
      ]
    },
    {
      "cell_type": "markdown",
      "source": [
        "### Runing multuple test with a bash shell"
      ],
      "metadata": {
        "id": "gx-sEYdfQ8f8"
      }
    },
    {
      "cell_type": "code",
      "source": [
        " %%writefile run_all_test.sh\n",
        "#!/bin/bash\n",
        "g++ max_pairwise_product_long_full.cpp -o max_pairwise_product_long_full\n",
        "for i in {1..3}\n",
        "do\n",
        "    ./max_pairwise_product_long_full < input$i.txt > ctest$i.txt\n",
        "    grep -xvFf output$i.txt ctest$i.txt\n",
        "done"
      ],
      "metadata": {
        "colab": {
          "base_uri": "https://localhost:8080/"
        },
        "id": "O9qsq2nn7elw",
        "outputId": "1aee0a40-d5be-4d2d-f743-5c806063cbb9"
      },
      "execution_count": 38,
      "outputs": [
        {
          "output_type": "stream",
          "name": "stdout",
          "text": [
            "Overwriting run_all_test.sh\n"
          ]
        }
      ]
    },
    {
      "cell_type": "code",
      "source": [
        "!chmod u+x run_all_test.sh\n",
        "!./run_all_test.sh"
      ],
      "metadata": {
        "id": "0g5kKVph7xIA"
      },
      "execution_count": 39,
      "outputs": []
    },
    {
      "cell_type": "markdown",
      "metadata": {
        "id": "XPVHkHxH6_7s"
      },
      "source": [
        "### Test 3  stress tests, 6 testing cases files input4.txt/output4.txt .. input10.txt/output10.txt\n",
        "\n",
        "---\n",
        "\n"
      ]
    },
    {
      "cell_type": "code",
      "execution_count": 40,
      "metadata": {
        "id": "NTyXAhF4zfm8",
        "colab": {
          "base_uri": "https://localhost:8080/"
        },
        "outputId": "0ca91869-0886-45a0-c689-e46079637f31"
      },
      "outputs": [
        {
          "output_type": "stream",
          "name": "stdout",
          "text": [
            "Writing input4.txt\n"
          ]
        }
      ],
      "source": [
        "# Stress Test case 1\n",
        "%%writefile input4.txt\n",
        "6\n",
        "1000000000 234000000 200000000 9000 200000000 892000000"
      ]
    },
    {
      "cell_type": "code",
      "execution_count": 41,
      "metadata": {
        "outputId": "ebde98bd-4395-4d98-ac9e-34e1a2bc09da",
        "id": "iZ3Ygbtbzfm9",
        "colab": {
          "base_uri": "https://localhost:8080/"
        }
      },
      "outputs": [
        {
          "output_type": "execute_result",
          "data": {
            "text/plain": [
              "892000000000000000"
            ]
          },
          "metadata": {},
          "execution_count": 41
        }
      ],
      "source": [
        "1000000000*892000000\n"
      ]
    },
    {
      "cell_type": "code",
      "execution_count": 42,
      "metadata": {
        "id": "K_u0EfJmzfm9",
        "colab": {
          "base_uri": "https://localhost:8080/"
        },
        "outputId": "0aaaead9-6a28-4dc3-a1bb-6971488782d4"
      },
      "outputs": [
        {
          "output_type": "stream",
          "name": "stdout",
          "text": [
            "Writing output4.txt\n"
          ]
        }
      ],
      "source": [
        "%%writefile output4.txt\n",
        "892000000000000000"
      ]
    },
    {
      "cell_type": "code",
      "execution_count": 43,
      "metadata": {
        "id": "28nqgnkVzSxo",
        "colab": {
          "base_uri": "https://localhost:8080/"
        },
        "outputId": "0e082681-c0e2-4dd0-b5cf-7aed5050ab96"
      },
      "outputs": [
        {
          "output_type": "stream",
          "name": "stdout",
          "text": [
            "Writing input5.txt\n"
          ]
        }
      ],
      "source": [
        "#Stress Test case 2\n",
        "%%writefile input5.txt\n",
        "# 5 random negative numbers\n",
        "5\n",
        "-1000000000 -234000000 -200000000 -9000 -200000000"
      ]
    },
    {
      "cell_type": "code",
      "execution_count": 44,
      "metadata": {
        "id": "qY8uVOYZzSxp",
        "outputId": "1f38f580-0e2e-4fc9-883e-55cc9118642d",
        "colab": {
          "base_uri": "https://localhost:8080/"
        }
      },
      "outputs": [
        {
          "output_type": "execute_result",
          "data": {
            "text/plain": [
              "234000000000000000"
            ]
          },
          "metadata": {},
          "execution_count": 44
        }
      ],
      "source": [
        "-1000000000*-234000000"
      ]
    },
    {
      "cell_type": "code",
      "execution_count": 45,
      "metadata": {
        "id": "jbbKJRoVzSxp",
        "outputId": "0dd2dc35-1534-4dcf-feed-d4a367b041cc",
        "colab": {
          "base_uri": "https://localhost:8080/"
        }
      },
      "outputs": [
        {
          "output_type": "stream",
          "name": "stdout",
          "text": [
            "Writing output5.txt\n"
          ]
        }
      ],
      "source": [
        "%%writefile output5.txt\n",
        "234000000000000000"
      ]
    },
    {
      "cell_type": "code",
      "execution_count": 46,
      "metadata": {
        "id": "-2h9BRXBzSxq",
        "colab": {
          "base_uri": "https://localhost:8080/"
        },
        "outputId": "581fba42-854a-4630-c507-0e34c46416e9"
      },
      "outputs": [
        {
          "output_type": "stream",
          "name": "stdout",
          "text": [
            "Writing input6.txt\n"
          ]
        }
      ],
      "source": [
        "#Stress Test case 3\n",
        "%%writefile input6.txt\n",
        "# 5 random numbers\n",
        "5\n",
        "10000000 4 200000 9000 1"
      ]
    },
    {
      "cell_type": "code",
      "execution_count": 47,
      "metadata": {
        "id": "Wp7ohytezSxq",
        "outputId": "4685dbe5-a3fb-4c0d-e0c3-41ad9f7e0cf6",
        "colab": {
          "base_uri": "https://localhost:8080/"
        }
      },
      "outputs": [
        {
          "output_type": "execute_result",
          "data": {
            "text/plain": [
              "2000000000000"
            ]
          },
          "metadata": {},
          "execution_count": 47
        }
      ],
      "source": [
        "10000000*200000"
      ]
    },
    {
      "cell_type": "code",
      "execution_count": 48,
      "metadata": {
        "id": "aLlFIBo5zSxq",
        "colab": {
          "base_uri": "https://localhost:8080/"
        },
        "outputId": "31237796-2c92-43f5-b86b-40b24decf15f"
      },
      "outputs": [
        {
          "output_type": "stream",
          "name": "stdout",
          "text": [
            "Writing output6.txt\n"
          ]
        }
      ],
      "source": [
        "%%writefile output6.txt\n",
        "2000000000000"
      ]
    },
    {
      "cell_type": "markdown",
      "metadata": {
        "id": "9z9yr5QkeyJF"
      },
      "source": [
        "### Test 4  time test  measure the execution time running with the the largest worst cases input11.txt  (200000 increasing numbers) and input12.txt (199998 increasing numbers and  200000, 200000 at the end)"
      ]
    },
    {
      "cell_type": "code",
      "source": [
        "# input11.txt 200000 increasing numbers:  1 2 .. 200000\n",
        "\n",
        "%%writefile WriteTest.cpp\n",
        "\n",
        "#include <iostream>\n",
        "#include <fstream>\n",
        "#include <cstdlib>\n",
        "\n",
        "using namespace std;\n",
        "\n",
        "int main() {\n",
        "  // Create and open a text file\n",
        "  ofstream MyFile(\"input11.txt\");\n",
        "\n",
        " MyFile << 200000 <<\"\\n\";  // n\n",
        " for (int i=1; i <200001; i++){\n",
        "     MyFile << i <<\" \";\n",
        " }\n",
        "\n",
        "  // Close the file\n",
        "  MyFile.close();\n",
        "}"
      ],
      "metadata": {
        "colab": {
          "base_uri": "https://localhost:8080/"
        },
        "id": "UmB1ipWM_nSk",
        "outputId": "54003a1d-4f2a-462c-81ff-0e2c0fd6a3da"
      },
      "execution_count": 49,
      "outputs": [
        {
          "output_type": "stream",
          "name": "stdout",
          "text": [
            "Writing WriteTest.cpp\n"
          ]
        }
      ]
    },
    {
      "cell_type": "code",
      "execution_count": 50,
      "metadata": {
        "id": "EH25TkOkZfD9"
      },
      "outputs": [],
      "source": [
        "!g++ WriteTest.cpp -o WriteTest\n",
        "!./WriteTest"
      ]
    },
    {
      "cell_type": "code",
      "source": [
        "199999 * 200000"
      ],
      "metadata": {
        "colab": {
          "base_uri": "https://localhost:8080/"
        },
        "id": "j0mokSOnCCtZ",
        "outputId": "31e236ab-10f1-49c0-ae6c-cd9c88346a82"
      },
      "execution_count": 51,
      "outputs": [
        {
          "output_type": "execute_result",
          "data": {
            "text/plain": [
              "39999800000"
            ]
          },
          "metadata": {},
          "execution_count": 51
        }
      ]
    },
    {
      "cell_type": "code",
      "source": [
        "%%writefile output11.txt\n",
        "39999800000"
      ],
      "metadata": {
        "id": "VoDhDV73B5Mo",
        "colab": {
          "base_uri": "https://localhost:8080/"
        },
        "outputId": "49fb9231-91be-4fc8-fff5-714e0e6d237f"
      },
      "execution_count": 53,
      "outputs": [
        {
          "output_type": "stream",
          "name": "stdout",
          "text": [
            "Writing output11.txt\n"
          ]
        }
      ]
    },
    {
      "cell_type": "code",
      "execution_count": 52,
      "metadata": {
        "colab": {
          "base_uri": "https://localhost:8080/"
        },
        "id": "oLiMjbAIfPlX",
        "outputId": "9d287bdd-61c0-4a18-c309-513e8ab9823e"
      },
      "outputs": [
        {
          "output_type": "stream",
          "name": "stdout",
          "text": [
            "Overwriting WriteTest.cpp\n"
          ]
        }
      ],
      "source": [
        "# input12.txt 200000 decreasing numbers and 200000, 199999 ...  2 1\n",
        "\n",
        "%%writefile WriteTest.cpp\n",
        "\n",
        "#include <iostream>\n",
        "#include <fstream>\n",
        "#include <cstdlib>\n",
        "\n",
        "using namespace std;\n",
        "\n",
        "int main() {\n",
        "  // Create and open a text file\n",
        "  ofstream MyFile(\"input12.txt\");\n",
        "\n",
        " MyFile << 200000 <<\"\\n\";  // n\n",
        " for (int i=1; i <200001; i++){\n",
        "     MyFile << 200001-i <<\" \";\n",
        " }\n",
        "\n",
        "  // Close the file\n",
        "  MyFile.close();\n",
        "}"
      ]
    },
    {
      "cell_type": "code",
      "source": [
        "!g++ WriteTest.cpp -o WriteTest\n",
        "!./WriteTest"
      ],
      "metadata": {
        "id": "oULNBr_zAd9c"
      },
      "execution_count": 54,
      "outputs": []
    },
    {
      "cell_type": "code",
      "source": [
        "%%writefile output12.txt\n",
        "39999800000"
      ],
      "metadata": {
        "colab": {
          "base_uri": "https://localhost:8080/"
        },
        "id": "PQLyocaFB-y4",
        "outputId": "555ee2dd-43e3-477d-9c31-154e0b5ac67d"
      },
      "execution_count": 55,
      "outputs": [
        {
          "output_type": "stream",
          "name": "stdout",
          "text": [
            "Writing output12.txt\n"
          ]
        }
      ]
    },
    {
      "cell_type": "markdown",
      "metadata": {
        "id": "JB6f03qO-lj9"
      },
      "source": [
        "### Measure time\n",
        "\n",
        "https://askubuntu.com/questions/53444/how-can-i-measure-the-execution-time-of-a-terminal-process"
      ]
    },
    {
      "cell_type": "code",
      "execution_count": 57,
      "metadata": {
        "colab": {
          "base_uri": "https://localhost:8080/"
        },
        "id": "6p2QLEr576zk",
        "outputId": "eb96271d-41c2-42d0-a8b6-3b70d9d64231"
      },
      "outputs": [
        {
          "output_type": "stream",
          "name": "stdout",
          "text": [
            "^C\n"
          ]
        }
      ],
      "source": [
        "!g++ max_pairwise_product_long_full.cpp -o max_pairwise_product_long_full\n",
        "!time ./max_pairwise_product_long_full< input11.txt"
      ]
    },
    {
      "cell_type": "code",
      "source": [
        "!g++ max_pairwise_product_long_full.cpp -o max_pairwise_product_long_full\n",
        "!time ./max_pairwise_product_long_full< input12.txt"
      ],
      "metadata": {
        "colab": {
          "base_uri": "https://localhost:8080/"
        },
        "id": "cnjCyeUdAnZj",
        "outputId": "f7e6b0a9-c2e0-47c0-f132-3ece8bdcd1ce"
      },
      "execution_count": 58,
      "outputs": [
        {
          "output_type": "stream",
          "name": "stdout",
          "text": [
            "^C\n"
          ]
        }
      ]
    },
    {
      "cell_type": "markdown",
      "metadata": {
        "id": "FXClpBsUJuXC"
      },
      "source": [
        "### Calculate the number or and upper bound to the number of instructions executed by the algorithm as a function of n, add in each line a comment with the number of instructions that are executed in that line."
      ]
    },
    {
      "cell_type": "code",
      "execution_count": 59,
      "metadata": {
        "colab": {
          "base_uri": "https://localhost:8080/"
        },
        "id": "uG6Mv-Pwlkii",
        "outputId": "d9d0a891-8221-476d-c320-14193329d54e"
      },
      "outputs": [
        {
          "output_type": "stream",
          "name": "stdout",
          "text": [
            "Overwriting max_pairwise_product_long_full.cpp\n"
          ]
        }
      ],
      "source": [
        "%%writefile max_pairwise_product_long_full.cpp\n",
        "#include <iostream>\n",
        "#include <vector>\n",
        "#include <algorithm>\n",
        "\n",
        "long long MaxPairwiseProduct(const std::vector<int>& numbers) {              //INSTRUCTIONS executed by line\n",
        "    long long max_product = 0LL;                                             //1\n",
        "\t  long long aux_product = 0LL;                                             //1\n",
        "    int n = numbers.size();                                                  //1\n",
        "\n",
        "    for (int first = 0; first < n; ++first) {                                //2+2n\n",
        "        for (int second = 0; second < n; ++second) {                         //2n + 2n**2\n",
        "          if ( first != second ){                                            //n**2\n",
        "                aux_product = numbers[first] * numbers[second];              //n**2 -n\n",
        "                if (aux_product > max_product)                               //n**2 -n\n",
        "                    max_product = aux_product;                               //[0, n**2/2 - n/2] upper bound\n",
        "          }\n",
        "        }\n",
        "    }\n",
        "\n",
        "                                                                             // --------------\n",
        "    return max_product;                                                      // 5 + 2*n + [5*n**2, 11*n**2/2  - n/2]  upper bound\n",
        "}\n",
        "\n",
        "int main() {                                              //INSTRUCTIONS executed by line\n",
        "    int n;                                                //1\n",
        "    std::cin >> n;                                        //1\n",
        "    std::vector<int> numbers(n);                          //n\n",
        "    for (int i = 0; i < n; ++i) {                         //2 + 2n\n",
        "        std::cin >> numbers[i];                           //n\n",
        "    }\n",
        "\n",
        "    std::cout << MaxPairwiseProduct(numbers) << \"\\n\";     //1 + 1  + 5 + 2*n + [5*n**2, 11*n**2/2  - n/2]\n",
        "\n",
        "    return 0;                                             // --------------\n",
        "}                                                         //  11 + 6*n + [5*n**2, 11*n**2/2  - n/2]  upper bound\n"
      ]
    },
    {
      "cell_type": "markdown",
      "metadata": {
        "id": "0vTsUg8OwcHs"
      },
      "source": [
        "### Count executed intructions in code"
      ]
    },
    {
      "cell_type": "code",
      "execution_count": 60,
      "metadata": {
        "colab": {
          "base_uri": "https://localhost:8080/"
        },
        "id": "CuRKkqQc137V",
        "outputId": "b5c53668-1549-4017-b330-d2c180e65374"
      },
      "outputs": [
        {
          "output_type": "stream",
          "name": "stdout",
          "text": [
            "Writing max_pairwise_product_long_full_execints.cpp\n"
          ]
        }
      ],
      "source": [
        "%%writefile max_pairwise_product_long_full_execints.cpp\n",
        "#include <iostream>\n",
        "#include <vector>\n",
        "#include <algorithm>\n",
        "\n",
        "long long MaxPairwiseProduct(const std::vector<int>& numbers, long long &execints) {      //INSTRUCTIONS executed by line\n",
        "\n",
        "    long long max_product = 0LL;                                                          //1\n",
        "    execints++;\n",
        "\n",
        "\t  long long aux_product = 0LL;                                                          //1\n",
        "    execints++;\n",
        "\n",
        "    int n = numbers.size();                                                               //1\n",
        "    execints++;\n",
        "\n",
        "    execints++;\n",
        "    for (int first = 0; first < n; ++first) {                                             //2+2n\n",
        "        execints += 2;\n",
        "\n",
        "        execints++;\n",
        "        for (int second = 0; second < n; ++second) {                                       //2n + 2n**2\n",
        "          execints += 2;\n",
        "\n",
        "          execints++;\n",
        "          if ( first != second ){                                                         //n**2\n",
        "                aux_product = numbers[first] * numbers[second];                           //n**2 -n\n",
        "                execints++;\n",
        "\n",
        "                execints++;\n",
        "                if (aux_product > max_product){                                           //n**2 -n\n",
        "                    max_product = aux_product;                                            //[0,n**2/2 - n/2)  upper bound\n",
        "                    execints++;\n",
        "\n",
        "                }\n",
        "        }\n",
        "\n",
        "      }\n",
        "      execints++;\n",
        "    }\n",
        "    execints++;\n",
        "                                                                                        // --------------\n",
        "    return max_product;                                                                 // 5 + 2*n + [5*n**2, 11*n**2/2  - n/2] upper bound\n",
        "}\n",
        "\n",
        "int main() {                                                 //INSTRUCTIONS executed by line\n",
        "\n",
        "    long long execints =0LL;\n",
        "\n",
        "    int n;                                                   //1\n",
        "    execints++;\n",
        "\n",
        "    std::cin >> n;                                           //1\n",
        "    execints++;\n",
        "\n",
        "    std::vector<int> numbers(n);                             //n\n",
        "    execints += n;\n",
        "\n",
        "    execints++;\n",
        "    for (int i = 0; i < n; ++i) {                            //2 + 2n\n",
        "        execints += 2;\n",
        "\n",
        "        std::cin >> numbers[i];\n",
        "        execints++;                                          //n\n",
        "\n",
        "    }\n",
        "\n",
        "\n",
        "    //std::cout << MaxPairwiseProduct(numbers) << \"\\n\";      //1 + 1  + 5 + 2*n + [5*n**2, 11*n**2/2  - n/2] upper bound\n",
        "\n",
        "    execints++;\n",
        "    int M = MaxPairwiseProduct(numbers,execints);\n",
        "\n",
        "    execints++;\n",
        "    std::cout <<  execints << \"\\n\";\n",
        "    return 0;                                                // --------------\n",
        "}                                                            // 11 + 6*n + [5*n**2, 11*n**2/2  - n/2]"
      ]
    },
    {
      "cell_type": "markdown",
      "source": [
        "The number of instructions executed by the algooirithm with a list of size $n$ is  \n",
        "\n",
        "$$T (n) = 11 + 6n + \\left[5n^2, 11\\frac{n^2}{2}  - \\frac{n}{2}\\right)  >  6n^2 = O(n^2)$$\n",
        "\n",
        "It depends on the size of the lists and  the order of the list.\n",
        "\n",
        "For the input0.txt\n",
        "```\n",
        "10\n",
        "0 0 0 0 0 0 0 0 0 0\n",
        "```\n",
        "$$T = 11 + 6(10) + 5(10)^2   = 561 $$\n",
        "\n",
        "$$T(10) \\in [571, 621)  $$\n"
      ],
      "metadata": {
        "id": "cUjHtvtdDsmr"
      }
    },
    {
      "cell_type": "code",
      "source": [
        "!g++ max_pairwise_product_long_full_execints.cpp -o max_pairwise_product_long_full_execints\n",
        "!./max_pairwise_product_long_full_execints < input0.txt"
      ],
      "metadata": {
        "colab": {
          "base_uri": "https://localhost:8080/"
        },
        "id": "Om9Fevb0miAT",
        "outputId": "01d7534f-e429-4f17-eb63-1116ecf673db"
      },
      "execution_count": 61,
      "outputs": [
        {
          "output_type": "stream",
          "name": "stdout",
          "text": [
            "570\n"
          ]
        }
      ]
    },
    {
      "cell_type": "markdown",
      "source": [
        "For the input1.txt\n",
        "```\n",
        "10\n",
        "1 2 3 4 5 6 7 8 9 10\n",
        "```\n",
        "$$T = 11 + 6(10) + 5(10)^2 +  9 + 5 + 4 + 3 + 2 + 2 + 2 + 2 + 1 + 0  = 601 $$\n",
        "\n",
        "$$T(10) \\in [572, 622)  $$\n"
      ],
      "metadata": {
        "id": "FwJzZ6VzmArY"
      }
    },
    {
      "cell_type": "code",
      "source": [
        "#The number of times that  max_product = aux_product; in the worst case is less than (n**2 -n)/2 -  upper bound\n",
        "\n",
        "#     1  2  3  4  5  6  7  8  9  10\n",
        "#  1  x  2  3  4  5  6  7  8  9  10         9\n",
        "#  2  2  x  6  8  10 12 14 16 18 20         5 14\n",
        "#  3  3  6  x  12 15 18 21 24 27 30         4 18\n",
        "#  4  4  8  12 x  20 24 28 32 36 40         3 21\n",
        "#  5  5  10 15 20 x  30 35 40 45 50         2 23\n",
        "#  6  6  12 18 24 30 x  42 48 54 60         2 25\n",
        "#  7  7  14 21 28 35 42 x  56 63 70         2 27\n",
        "#  8  8  18 27 36 45 54 63 72 x  90         1 30\n",
        "#  10 10 20 30 40 50 60 70 60 90 x          0"
      ],
      "metadata": {
        "id": "K59xQMWiBNFj"
      },
      "execution_count": null,
      "outputs": []
    },
    {
      "cell_type": "code",
      "source": [
        "11 + 6*(10) + 5*(10)*(10) +  9 + 5 + 4 + 3 + 2 + 2 + 2 + 2 + 1 + 0"
      ],
      "metadata": {
        "colab": {
          "base_uri": "https://localhost:8080/"
        },
        "id": "E3O8dzFfEgir",
        "outputId": "28c25038-d66c-468a-d96d-9271cde409ab"
      },
      "execution_count": 62,
      "outputs": [
        {
          "output_type": "execute_result",
          "data": {
            "text/plain": [
              "601"
            ]
          },
          "metadata": {},
          "execution_count": 62
        }
      ]
    },
    {
      "cell_type": "code",
      "source": [
        "n = 10\n",
        "print( \"[\", 11 + 6*n + 5*n**2,  \",\", 11 + 6*n  + 5.5*n**2, \")\")"
      ],
      "metadata": {
        "colab": {
          "base_uri": "https://localhost:8080/"
        },
        "id": "TCpdl5u_Gq1a",
        "outputId": "8daa2bac-5fdf-45e8-ce2c-5c97c5ceb5a8"
      },
      "execution_count": 63,
      "outputs": [
        {
          "output_type": "stream",
          "name": "stdout",
          "text": [
            "[ 571 , 621.0 )\n"
          ]
        }
      ]
    },
    {
      "cell_type": "code",
      "execution_count": 64,
      "metadata": {
        "colab": {
          "base_uri": "https://localhost:8080/"
        },
        "id": "Kuvm1C05ly2a",
        "outputId": "12064ccd-4bcb-481a-c7fe-ee48722f7287"
      },
      "outputs": [
        {
          "output_type": "stream",
          "name": "stdout",
          "text": [
            "600\n"
          ]
        }
      ],
      "source": [
        "!g++ max_pairwise_product_long_full_execints.cpp -o max_pairwise_product_long_full_execints\n",
        "!./max_pairwise_product_long_full_execints < input1.txt"
      ]
    },
    {
      "cell_type": "markdown",
      "source": [
        "\n",
        "For the input2.txt\n",
        "```\n",
        "10\n",
        "10 9 8 7 6 5 4 3 2 1\n",
        "```\n",
        "$$T = 11 + 6*(10) + 5*(10)**2 +  1  = 571 $$"
      ],
      "metadata": {
        "id": "Yr_Lb7CaHfxB"
      }
    },
    {
      "cell_type": "code",
      "source": [
        "11 + 6*(10) + 5*(10)**2 +  1"
      ],
      "metadata": {
        "colab": {
          "base_uri": "https://localhost:8080/"
        },
        "id": "HOdqlwJiZUIp",
        "outputId": "b5509eb3-02af-4b7c-c790-4c721818c1a3"
      },
      "execution_count": 65,
      "outputs": [
        {
          "output_type": "execute_result",
          "data": {
            "text/plain": [
              "572"
            ]
          },
          "metadata": {},
          "execution_count": 65
        }
      ]
    },
    {
      "cell_type": "code",
      "source": [
        "!g++ max_pairwise_product_long_full_execints.cpp -o max_pairwise_product_long_full_execints\n",
        "!./max_pairwise_product_long_full_execints < input2.txt"
      ],
      "metadata": {
        "id": "_znzLectjFSe",
        "colab": {
          "base_uri": "https://localhost:8080/"
        },
        "outputId": "d1036250-f0c5-4f5b-ac58-adc3832e7d55"
      },
      "execution_count": 66,
      "outputs": [
        {
          "output_type": "stream",
          "name": "stdout",
          "text": [
            "571\n"
          ]
        }
      ]
    },
    {
      "cell_type": "markdown",
      "metadata": {
        "id": "NXW7QkoBL6xH"
      },
      "source": [
        "Calculate estimated time by instruction and number of instructions by second"
      ]
    },
    {
      "cell_type": "markdown",
      "source": [
        "For the input11.txt\n",
        "```\n",
        "200000\n",
        "1 2 ..  199999 2000\n",
        "```\n",
        "$$T = 11 + 6*(200000) + 5.5*(200000)**2  = 200001200012  $$"
      ],
      "metadata": {
        "id": "dlyRjaohz-YH"
      }
    },
    {
      "cell_type": "code",
      "source": [
        "!g++ max_pairwise_product_long_full_execints.cpp -o max_pairwise_product_long_full_execints\n",
        "!./max_pairwise_product_long_full_execints < input11.txt"
      ],
      "metadata": {
        "colab": {
          "base_uri": "https://localhost:8080/"
        },
        "id": "BMH8mF3EKn2w",
        "outputId": "37202ba2-8a34-42eb-ff2a-25a28366f51a"
      },
      "execution_count": 67,
      "outputs": [
        {
          "output_type": "stream",
          "name": "stdout",
          "text": [
            "^C\n"
          ]
        }
      ]
    },
    {
      "cell_type": "code",
      "execution_count": 68,
      "metadata": {
        "colab": {
          "base_uri": "https://localhost:8080/"
        },
        "id": "pKqB3i7dIxnc",
        "outputId": "41d9249c-968b-419a-9162-d5b12ca1d0ad"
      },
      "outputs": [
        {
          "output_type": "execute_result",
          "data": {
            "text/plain": [
              "1.4749765693187072e-09"
            ]
          },
          "metadata": {},
          "execution_count": 68
        }
      ],
      "source": [
        "# Estimated time by instruction\n",
        "# use the real reported  !time ./max_pairwise_product_long_full< input11.txt in seconds intead of the 295\n",
        "\n",
        "295/200003177092\n"
      ]
    },
    {
      "cell_type": "code",
      "execution_count": 69,
      "metadata": {
        "colab": {
          "base_uri": "https://localhost:8080/"
        },
        "id": "18N1ouqeMhE1",
        "outputId": "46620c44-6bcb-455d-b085-58cb0a336faa"
      },
      "outputs": [
        {
          "output_type": "execute_result",
          "data": {
            "text/plain": [
              "677976871.4983051"
            ]
          },
          "metadata": {},
          "execution_count": 69
        }
      ],
      "source": [
        "# Estimated number of instructions by second\n",
        "\n",
        "200003177092/295"
      ]
    },
    {
      "cell_type": "markdown",
      "source": [
        "### Estimate and verify the maximun n that can be solved in 1 second\n",
        "\n",
        "$$(5.5n^2 + 5.5n + 11) \\times 1.47*10^{-9} s = 1 s$$\n",
        "\n",
        "$$ n \\approx 11000$$\n"
      ],
      "metadata": {
        "id": "KyuxejFkL5X_"
      }
    },
    {
      "cell_type": "code",
      "source": [
        "# Verify input13.txt\n",
        "%%writefile WriteTest.cpp\n",
        "\n",
        "#include <iostream>\n",
        "#include <fstream>\n",
        "#include <cstdlib>\n",
        "\n",
        "using namespace std;\n",
        "\n",
        "int main() {\n",
        "  // Create and open a text file\n",
        "  ofstream MyFile(\"input13.txt\");\n",
        "\n",
        " MyFile << 11000 <<\"\\n\";  // n\n",
        " for (int i=1; i <11001; i++){\n",
        "     MyFile << i <<\" \";\n",
        " }\n",
        "\n",
        "  // Close the file\n",
        "  MyFile.close();\n",
        "}"
      ],
      "metadata": {
        "colab": {
          "base_uri": "https://localhost:8080/"
        },
        "id": "WXu5jp-DLTOI",
        "outputId": "4dd7ed86-eea6-4453-fdf7-8eb00f92abe0"
      },
      "execution_count": 70,
      "outputs": [
        {
          "output_type": "stream",
          "name": "stdout",
          "text": [
            "Overwriting WriteTest.cpp\n"
          ]
        }
      ]
    },
    {
      "cell_type": "code",
      "source": [
        "!g++ WriteTest.cpp -o WriteTest\n",
        "!./WriteTest"
      ],
      "metadata": {
        "id": "AQ8N52pUMCeT"
      },
      "execution_count": 71,
      "outputs": []
    },
    {
      "cell_type": "code",
      "source": [
        "10999 * 11000"
      ],
      "metadata": {
        "colab": {
          "base_uri": "https://localhost:8080/"
        },
        "id": "2iIOdbTrEtBx",
        "outputId": "e8a9cd1f-2070-46a4-ca83-250a2ce1109c"
      },
      "execution_count": 72,
      "outputs": [
        {
          "output_type": "execute_result",
          "data": {
            "text/plain": [
              "120989000"
            ]
          },
          "metadata": {},
          "execution_count": 72
        }
      ]
    },
    {
      "cell_type": "code",
      "source": [
        "!g++ max_pairwise_product_long_full.cpp -o max_pairwise_product_long_full\n",
        "!time ./max_pairwise_product_long_full< input13.txt"
      ],
      "metadata": {
        "colab": {
          "base_uri": "https://localhost:8080/"
        },
        "id": "ussuAokfM2du",
        "outputId": "622d878a-218e-49fb-a6a7-4a28a3ae1495"
      },
      "execution_count": 73,
      "outputs": [
        {
          "output_type": "stream",
          "name": "stdout",
          "text": [
            "120989000\n",
            "\n",
            "real\t0m0.865s\n",
            "user\t0m0.845s\n",
            "sys\t0m0.004s\n"
          ]
        }
      ]
    },
    {
      "cell_type": "markdown",
      "metadata": {
        "id": "Tm_AVmt-QQH4"
      },
      "source": [
        "## Python"
      ]
    },
    {
      "cell_type": "code",
      "execution_count": 74,
      "metadata": {
        "id": "gRCCcd7IQTKZ",
        "colab": {
          "base_uri": "https://localhost:8080/"
        },
        "outputId": "66c69cd2-5467-483a-9a89-2b9a143ef506"
      },
      "outputs": [
        {
          "output_type": "stream",
          "name": "stdout",
          "text": [
            "Writing max_pairwise_product_long_full.py\n"
          ]
        }
      ],
      "source": [
        "%%writefile max_pairwise_product_long_full.py\n",
        "def MaxPairwiseProduct(numbers):\n",
        "  max_product = 0\n",
        "  aux_product = 0\n",
        "  n = len(numbers)\n",
        "\n",
        "  for first in range (n):\n",
        "    for second in range(n):\n",
        "      if(first != second):\n",
        "        aux_product = numbers[first]*numbers[second]\n",
        "        if aux_product > max_product:\n",
        "          max_product = aux_product\n",
        "  return max_product\n",
        "\n",
        "n = int(input())\n",
        "numbers = [int(i) for i in input().split()]\n",
        "print(MaxPairwiseProduct(numbers))"
      ]
    },
    {
      "cell_type": "code",
      "execution_count": 75,
      "metadata": {
        "id": "hjw7TJrDL0d-",
        "colab": {
          "base_uri": "https://localhost:8080/"
        },
        "outputId": "7390167e-b80d-48a3-8e13-7530ffe0f772"
      },
      "outputs": [
        {
          "output_type": "stream",
          "name": "stdout",
          "text": [
            "Traceback (most recent call last):\n",
            "  File \"/content/max_pairwise_product_long_full.py\", line 16, in <module>\n",
            "    print(MaxPairwiseProduct(numbers))\n",
            "  File \"/content/max_pairwise_product_long_full.py\", line 10, in MaxPairwiseProduct\n",
            "    if aux_product > max_product:\n",
            "KeyboardInterrupt\n",
            "^C\n"
          ]
        }
      ],
      "source": [
        "# Verify\n",
        "!time python3 max_pairwise_product_long_full.py < input13.txt"
      ]
    },
    {
      "cell_type": "markdown",
      "source": [
        "# For the follwing solutions rquired  the same tests and analysis performed for the first solution"
      ],
      "metadata": {
        "id": "fEZR-3V4ZjCv"
      }
    },
    {
      "cell_type": "markdown",
      "metadata": {
        "id": "MKQKSC-vKePK"
      },
      "source": [
        "## Solutions in C++ and Python that uses\n",
        "$$\\frac{n^2 - n}{2} = O(n^2)\\ \\ \\text{products}$$"
      ]
    },
    {
      "cell_type": "code",
      "execution_count": 76,
      "metadata": {
        "id": "jkkHHoxSK65p",
        "colab": {
          "base_uri": "https://localhost:8080/"
        },
        "outputId": "b78c0f31-a3f2-4c08-c493-67017f16fad4"
      },
      "outputs": [
        {
          "output_type": "stream",
          "name": "stdout",
          "text": [
            "Writing max_pairwise_product.cpp\n"
          ]
        }
      ],
      "source": [
        "%%writefile max_pairwise_product.cpp\n",
        "#include <iostream>\n",
        "#include <vector>\n",
        "#include <algorithm>\n",
        "\n",
        "int MaxPairwiseProduct(const std::vector<int>& numbers) {\n",
        "    int max_product = 0;\n",
        "    int n = numbers.size();\n",
        "\n",
        "    for (int first = 0; first < n; ++first) {\n",
        "        for (int second = first + 1; second < n; ++second) {\n",
        "            max_product = std::max(max_product,\n",
        "                numbers[first] * numbers[second]);\n",
        "        }\n",
        "    }\n",
        "\n",
        "    return max_product;\n",
        "}\n",
        "\n",
        "int main() {\n",
        "    int n;\n",
        "    std::cin >> n;\n",
        "    std::vector<int> numbers(n);\n",
        "    for (int i = 0; i < n; ++i) {\n",
        "        std::cin >> numbers[i];\n",
        "    }\n",
        "\n",
        "    std::cout << MaxPairwiseProduct(numbers) << \"\\n\";\n",
        "    return 0;\n",
        "}"
      ]
    },
    {
      "cell_type": "code",
      "execution_count": 77,
      "metadata": {
        "id": "sU8-Ote7K8vz",
        "colab": {
          "base_uri": "https://localhost:8080/"
        },
        "outputId": "84daafc7-5544-4d3e-89f2-5e15a7b44ec6"
      },
      "outputs": [
        {
          "output_type": "stream",
          "name": "stdout",
          "text": [
            "Writing max_pairwise_product_long.cpp\n"
          ]
        }
      ],
      "source": [
        "%%writefile max_pairwise_product_long.cpp\n",
        "#include <iostream>\n",
        "#include <vector>\n",
        "#include <algorithm>\n",
        "\n",
        "long long MaxPairwiseProduct(const std::vector<int>& numbers) {              //INSTRUCTIONS executed by line\n",
        "    long long max_product = 0LL;                                             //1\n",
        "\t  long long aux_product = 0LL;                                             //1\n",
        "    int n = numbers.size();                                                  //1\n",
        "\n",
        "    for (int first = 0; first < n; ++first) {                                //2+2n\n",
        "        for (int second = first + 1; second < n; ++second) {                 //2n + (n-1)n\n",
        "\t\t\t       aux_product =  (long long) numbers[first] * numbers[second];    //(n-1)n/2\n",
        "            if (max_product < aux_product)  {                                //(n-1)n/2\n",
        "\t\t\t\t        max_product = aux_product;                                   //[1,(n-1)n/2)  upper bound\n",
        "             }\n",
        "        }\n",
        "    }\n",
        "                                                                             // --------------\n",
        "    return max_product;                                                      // 5 + 4n + [2(n-1)n+1, 2.5 (n-1)n) upper bound\n",
        "}\n",
        "\n",
        "int main() {                                              //INSTRUCTIONS executed by line\n",
        "    int n;                                                //1\n",
        "    std::cin >> n;                                        //1\n",
        "    std::vector<int> numbers(n);                          //n\n",
        "    for (int i = 0; i < n; ++i) {                         //2 + 2n\n",
        "        std::cin >> numbers[i];                           //n\n",
        "    }\n",
        "\n",
        "    std::cout << MaxPairwiseProduct(numbers) << \"\\n\";     //1 + 1  + 5 + 4n + [2(n-1)n+1, 2.5 (n-1)n) upper bound\n",
        "    return 0;                                             // --------------\n",
        "}                                                         // 11 + 7n + [2(n-1)n+1, 2.5 (n-1)n) upper bound\n"
      ]
    },
    {
      "cell_type": "code",
      "execution_count": 78,
      "metadata": {
        "id": "5QWT3fneK8nw",
        "colab": {
          "base_uri": "https://localhost:8080/"
        },
        "outputId": "1b92cff7-c2ae-4ead-dfc2-eb9c389e0d9b"
      },
      "outputs": [
        {
          "output_type": "stream",
          "name": "stdout",
          "text": [
            "120989000\n",
            "\n",
            "real\t0m0.397s\n",
            "user\t0m0.389s\n",
            "sys\t0m0.004s\n"
          ]
        }
      ],
      "source": [
        "!g++ max_pairwise_product_long.cpp -o max_pairwise_product_long\n",
        "!time ./max_pairwise_product_long < input13.txt"
      ]
    },
    {
      "cell_type": "markdown",
      "source": [
        "### Estimate and verify the maximun n that can be solved in 1 second\n",
        "\n"
      ],
      "metadata": {
        "id": "zxCvxiB-XQJh"
      }
    },
    {
      "cell_type": "code",
      "source": [],
      "metadata": {
        "id": "Su8drkhrZwcp"
      },
      "execution_count": null,
      "outputs": []
    },
    {
      "cell_type": "markdown",
      "metadata": {
        "id": "1Hsbd-uHOb_j"
      },
      "source": [
        "# Sort solution in C++ and Python\n",
        "\n",
        "$$ O(n \\lg n)$$\n",
        "\n",
        "**Which sorting algorithm is used in GCC?**\n",
        "https://stackoverflow.com/questions/7221257/which-sorting-algorithm-is-used-in-gcc\n",
        "\n",
        "* ...  the algorithm is called introsort, a combination between Insertionsort, Quicksort & Heapsort. ...\n",
        "\n",
        "**Introsort**\n",
        "https://en.wikipedia.org/wiki/Introsort\n",
        "\n",
        "Introsort or introspective sort is a hybrid sorting algorithm that provides both fast average performance and (asymptotically) optimal worst-case performance. It begins with quicksort, it switches to heapsort when the recursion depth exceeds a level based on (the logarithm of) the number of elements being sorted and it switches to insertion sort when the number of elements is below some threshold\n",
        "\n",
        "*   Class\tSorting algorithm\n",
        "*   Data structure\tArray\n",
        "*   Worst-case performance\t$O(n \\lg n)$\n",
        "*   Average performance\t$O(n \\lg n)$\n",
        "\n",
        "**Timsort**\n",
        "https://en.wikipedia.org/wiki/Timsort\n",
        "\n",
        "Timsort is a hybrid, stable sorting algorithm, derived from merge sort and insertion sort, designed to perform well on many kinds of real-world data. It was implemented by Tim Peters in 2002 for use in the Python programming language.\n",
        "\n",
        "*   Class\tSorting algorithm\n",
        "*   Data structure\tArray\n",
        "*   Worst-case performance\t$O(n \\lg n)$\n",
        "*   Best-case performance $O(n)$\n",
        "*   Average performance\t$O(n \\lg n)$\n",
        "*   Worst-case space complexity $O(n)$"
      ]
    },
    {
      "cell_type": "markdown",
      "metadata": {
        "id": "WMUthAXjOb_k"
      },
      "source": []
    },
    {
      "cell_type": "code",
      "source": [
        "# %%writefile max_pairwise_product_with_sort.py\n",
        "# #Python3\n",
        "# if __name__ == \"__main__\":\n",
        "#     n = int(input())\n",
        "#     lista = list(map(int, input().split()))\n",
        "#     lista.sort()\n",
        "#     print(lista[n - 1] * lista[n - 2])\n",
        "\n",
        "\n",
        "%%writefile max_pairwise_product_sort.py\n",
        "def max_pairwise_product_sort(numbers):\n",
        "  numbers.sort(reverse=True)\n",
        "  return numbers[0] * numbers[1]\n",
        "\n",
        "n = int(input())\n",
        "numbers = [int(i) for i in input().split()]\n",
        "print(max_pairwise_product_sort(numbers))"
      ],
      "metadata": {
        "id": "jnIRWyUEDu_C",
        "colab": {
          "base_uri": "https://localhost:8080/"
        },
        "outputId": "6609ed29-622c-473d-9fe6-e154f4cd873f"
      },
      "execution_count": 79,
      "outputs": [
        {
          "output_type": "stream",
          "name": "stdout",
          "text": [
            "Writing max_pairwise_product_sort.py\n"
          ]
        }
      ]
    },
    {
      "cell_type": "markdown",
      "metadata": {
        "id": "v8pdV9ABOb_k"
      },
      "source": [
        "Test with inputs 1 and 2\n",
        "\n"
      ]
    },
    {
      "cell_type": "code",
      "execution_count": 80,
      "metadata": {
        "id": "kdXAyLG4Ob_k",
        "colab": {
          "base_uri": "https://localhost:8080/"
        },
        "outputId": "189f689f-5e52-4ee7-90a9-c4411de9c526"
      },
      "outputs": [
        {
          "output_type": "stream",
          "name": "stdout",
          "text": [
            "Overwriting run_all_test.sh\n"
          ]
        }
      ],
      "source": [
        "# !./max_pairwise_product_with_sort_C < input1.txt\n",
        "# !./max_pairwise_product_with_sort_C < input2.txt\n",
        "\n",
        "\n",
        "%%writefile run_all_test.sh\n",
        "#comparing all the executions to check the differences between the outputs\n",
        "for i in {1..2}\n",
        "do\n",
        "    python3 max_pairwise_product_sort.py < input$i.txt > pythonOutput$i.txt\n",
        "    grep -xvFf pythonOutput$i.txt output$i.txt\n",
        "done"
      ]
    },
    {
      "cell_type": "markdown",
      "metadata": {
        "id": "Sw-5X1q1Ob_k"
      },
      "source": [
        "Test and time it with input 3"
      ]
    },
    {
      "cell_type": "code",
      "execution_count": 81,
      "metadata": {
        "id": "ryHJ30WIOb_k",
        "colab": {
          "base_uri": "https://localhost:8080/"
        },
        "outputId": "03a9ebbc-5ca4-4fde-fba7-dd1104f9aab6"
      },
      "outputs": [
        {
          "output_type": "stream",
          "name": "stdout",
          "text": [
            "\n",
            "real\t0m0.035s\n",
            "user\t0m0.024s\n",
            "sys\t0m0.010s\n"
          ]
        }
      ],
      "source": [
        "!time python3 max_pairwise_product_sort.py < input3.txt > pythonOutput3.txt\n",
        "!grep -xvFf pythonOutput3.txt output3.txt"
      ]
    },
    {
      "cell_type": "markdown",
      "metadata": {
        "id": "oJGdPl1HOb_k"
      },
      "source": [
        "20 stress tests"
      ]
    },
    {
      "cell_type": "code",
      "execution_count": 82,
      "metadata": {
        "id": "pXHtO1dEOb_k",
        "colab": {
          "base_uri": "https://localhost:8080/"
        },
        "outputId": "fcbf21ce-6733-4a2c-a8b7-a04049ae7562"
      },
      "outputs": [
        {
          "output_type": "stream",
          "name": "stdout",
          "text": [
            "-------------------------------------------------\n",
            "Testing with the list: [990257951, 659184331, 975047833]\n",
            "The efficient solution gives the result 980610809518718401\n",
            "-------------------------------------------------\n",
            "-------------------------------------------------\n",
            "Testing with the list: [216552260, 536373975, 74646221, 606749043, 884542484, 83697596, 863815999, 368242898]\n",
            "The efficient solution gives the result 782415406000890256\n",
            "-------------------------------------------------\n",
            "-------------------------------------------------\n",
            "Testing with the list: [574185287, 312292060, 289042034, 934755079]\n",
            "The efficient solution gives the result 536722613310322673\n",
            "-------------------------------------------------\n",
            "-------------------------------------------------\n",
            "Testing with the list: [143324073, 902683616, 677490945, 478241968, 221426798, 632327997, 758206227, 268739361]\n",
            "The efficient solution gives the result 814837710594835456\n",
            "-------------------------------------------------\n",
            "-------------------------------------------------\n",
            "Testing with the list: [161725125, 519722604, 363034281, 943987892, 866413971, 567218254, 508125451, 194162804, 916341793, 820084438, 292190804]\n",
            "The efficient solution gives the result 891113140242603664\n",
            "-------------------------------------------------\n",
            "-------------------------------------------------\n",
            "Testing with the list: [359236237, 823672708, 82713063, 933395750, 274602838, 105399921, 967325352]\n",
            "The efficient solution gives the result 902897372424054000\n",
            "-------------------------------------------------\n",
            "-------------------------------------------------\n",
            "Testing with the list: [831513638, 199378027, 506374308, 162974227, 601859560, 208298281, 619641000]\n",
            "The efficient solution gives the result 691414930179995044\n",
            "-------------------------------------------------\n",
            "-------------------------------------------------\n",
            "Testing with the list: [979580259, 489589643, 169808564, 219372860, 213929815, 235539158, 342786220, 416654003, 914227407, 643568034, 536975759, 146629357]\n",
            "The efficient solution gives the result 959577483822507081\n",
            "-------------------------------------------------\n",
            "-------------------------------------------------\n",
            "Testing with the list: [676645865, 911179366, 892424374, 150192760, 91252047, 500411706, 441155391, 794486623, 87268113, 376758244]\n",
            "The efficient solution gives the result 830247837024161956\n",
            "-------------------------------------------------\n",
            "-------------------------------------------------\n",
            "Testing with the list: [194840100, 536690719, 284490168, 250037047, 919058358, 535850695, 101571148, 806771233, 886288044]\n",
            "The efficient solution gives the result 844668265409656164\n",
            "-------------------------------------------------\n",
            "-------------------------------------------------\n",
            "Testing with the list: [737222932, 22201084, 308615301, 122983495]\n",
            "The efficient solution gives the result 543497651466676624\n",
            "-------------------------------------------------\n",
            "-------------------------------------------------\n",
            "Testing with the list: [238113085, 246892988, 743425639, 444749222, 572403402, 555687913]\n",
            "The efficient solution gives the result 552681680722558321\n",
            "-------------------------------------------------\n",
            "-------------------------------------------------\n",
            "Testing with the list: [452131475, 983013284, 911876283, 998619292, 151677055, 786354419, 298527592, 213210935]\n",
            "The efficient solution gives the result 997240490354581264\n",
            "-------------------------------------------------\n",
            "-------------------------------------------------\n",
            "Testing with the list: [151834280, 212174381]\n",
            "The efficient solution gives the result 32215344373580680\n",
            "-------------------------------------------------\n",
            "-------------------------------------------------\n",
            "Testing with the list: [11937629, 151131828, 891064552, 776810184, 148303902, 265970016, 911579565]\n",
            "The efficient solution gives the result 812276236699079880\n",
            "-------------------------------------------------\n",
            "-------------------------------------------------\n",
            "Testing with the list: [980422865, 426320364, 133174181, 368679397, 6981813, 571597356]\n",
            "The efficient solution gives the result 961228994214808225\n",
            "-------------------------------------------------\n",
            "-------------------------------------------------\n",
            "Testing with the list: [984943195, 123292375, 518395701, 780322023, 981887373, 772385829]\n",
            "The efficient solution gives the result 970113097376808025\n",
            "-------------------------------------------------\n",
            "-------------------------------------------------\n",
            "Testing with the list: [153340964, 336873818, 175584743, 162657809, 860050091, 115599286, 628617191, 685721283]\n",
            "The efficient solution gives the result 739686159029108281\n",
            "-------------------------------------------------\n",
            "-------------------------------------------------\n",
            "Testing with the list: [195369618, 627959634]\n",
            "The efficient solution gives the result 122684233813999812\n",
            "-------------------------------------------------\n",
            "-------------------------------------------------\n",
            "Testing with the list: [869348331, 935305889, 323187851, 356441385, 523507437, 930388562, 479553837, 75360601, 564218563, 565806227, 618836366, 585910073]\n",
            "The efficient solution gives the result 874797105998080321\n",
            "-------------------------------------------------\n"
          ]
        }
      ],
      "source": [
        "import random\n",
        "\n",
        "def max_pairwise_efficient(numbers):\n",
        "    n = len(numbers)\n",
        "    biggest_1 = float('-inf')\n",
        "    biggest_2 = float('-inf')\n",
        "\n",
        "    for i in range(n):\n",
        "        new = numbers[i]\n",
        "        temp = biggest_1\n",
        "        if new > biggest_1:\n",
        "          biggest_2 = biggest_1\n",
        "          biggest_1 = new\n",
        "        if temp > biggest_2: biggest_2 = temp\n",
        "\n",
        "    return biggest_1 * biggest_2\n",
        "\n",
        "# 20 stress tests\n",
        "for _ in range(20):\n",
        "    n = random.randint(2, 12)  # Use a large n\n",
        "    numbers = [random.randint(1, 10**9) for _ in range(n)]  # Generate n random numbers between 1 and 10^9\n",
        "\n",
        "    print(\"-------------------------------------------------\")\n",
        "    print(f\"Testing with the list: {numbers}\")\n",
        "    print(f\"The efficient solution gives the result {max_pairwise_efficient(numbers)}\")\n",
        "    # Add any additional test or comparison here if needed\n",
        "    print(\"-------------------------------------------------\")"
      ]
    },
    {
      "cell_type": "markdown",
      "metadata": {
        "id": "2beTmWFPOb_k"
      },
      "source": [
        "Count executed instructions in code and verify with inputs 1,2 and 3\n"
      ]
    },
    {
      "cell_type": "code",
      "execution_count": 83,
      "metadata": {
        "id": "iuByv4x1Ob_k",
        "colab": {
          "base_uri": "https://localhost:8080/"
        },
        "outputId": "4419607f-0602-4e07-ac23-f3053fa295cf"
      },
      "outputs": [
        {
          "output_type": "stream",
          "name": "stdout",
          "text": [
            "Writing max_pairwise_efficient.py\n"
          ]
        }
      ],
      "source": [
        "\n",
        "%%writefile max_pairwise_efficient.py\n",
        "import random\n",
        "execints = 0\n",
        "\n",
        "def max_pairwise_efficient(numbers):\n",
        "    global execints\n",
        "    n = len(numbers)  # Tamaño de la lista\n",
        "    biggest_1 = float('-inf')  # Inicializa el valor más grande en -infinito\n",
        "    biggest_2 = float('-inf')  # Inicializa el segundo valor más grande en -infinito\n",
        "    execints += 3  # Se cuenta como 3 instrucciones iniciales\n",
        "\n",
        "    for i in range(n):\n",
        "        new_number = numbers[i]  # Toma el siguiente número de la lista\n",
        "        temp = biggest_1  # Almacena temporalmente el valor más grande encontrado\n",
        "        execints += 2  # 2 instrucciones por la asignación y la comparación\n",
        "\n",
        "        if new_number > biggest_1:  # Si el nuevo número es mayor que el más grande\n",
        "            biggest_2 = biggest_1  # El anterior mayor pasa a ser el segundo más grande\n",
        "            biggest_1 = new_number  # El nuevo número se convierte en el más grande\n",
        "            execints += 2  # 2 instrucciones por el bloque if\n",
        "\n",
        "        if temp > biggest_2:  # Si el valor temporal (anterior mayor) es mayor que el segundo mayor\n",
        "            biggest_2 = temp  # Se actualiza el segundo mayor\n",
        "            execints += 2  # 2 instrucciones por la comparación y asignación\n",
        "\n",
        "        execints += 2  # Por las dos comparaciones en cada iteración\n",
        "\n",
        "    execints += 1  # Incrementa por la línea de retorno final\n",
        "    return biggest_1 * biggest_2  # Devuelve el producto máximo de los dos números más grandes\n",
        "\n",
        "\n",
        "\n",
        "\n",
        "if __name__ == '__main__':\n",
        "    n = int(input())  # Lee el tamaño de la lista\n",
        "    input_line = input()  # Lee la línea de números\n",
        "    numbers = list(map(int, input_line.split()))  # Convierte la línea de entrada en una lista de enteros\n",
        "    max_pairwise_efficient(numbers)  # Llama a la función para calcular el producto máximo\n",
        "\n",
        "    execints += 1  # Incrementa por el final de la ejecución de la función\n",
        "\n",
        "    print(\"El numero de instrucciones es:\", execints)  # Imprime el número de instrucciones ejecutadas\n",
        "\n"
      ]
    },
    {
      "cell_type": "markdown",
      "metadata": {
        "id": "x2CXhkwTOb_l"
      },
      "source": [
        "Calculate estimated time by instruction and number of instructions by second"
      ]
    },
    {
      "cell_type": "code",
      "execution_count": 84,
      "metadata": {
        "id": "nTjxyTMtOb_l",
        "colab": {
          "base_uri": "https://localhost:8080/"
        },
        "outputId": "810ff04f-4c3d-4672-a6d3-5023ae073072"
      },
      "outputs": [
        {
          "output_type": "stream",
          "name": "stdout",
          "text": [
            "\n",
            "real\t0m0.163s\n",
            "user\t0m0.141s\n",
            "sys\t0m0.020s\n",
            "El numero de instrucciones es: 1200005\n",
            "7272757.575757575 tiempo por instrucción\n"
          ]
        }
      ],
      "source": [
        "!time python3 max_pairwise_efficient.py < input11.txt > pythonOutputSort11.txt\n",
        "!python3 max_pairwise_efficient.py < input11.txt\n",
        "num_inst_per_seg = 1200005/0.165\n",
        "print(f\"{num_inst_per_seg} tiempo por instrucción\")"
      ]
    },
    {
      "cell_type": "markdown",
      "source": [
        "### Estimate and verify the maximun n that can be solved in 1 second"
      ],
      "metadata": {
        "id": "CcgDYDQuaFeH"
      }
    },
    {
      "cell_type": "code",
      "source": [
        "import time\n",
        "import random\n",
        "n = 0 #numero de instrucciones\n",
        "\n",
        "def instruction(numbers):\n",
        "    m = len(numbers)\n",
        "    biggest_1 = float('-inf')\n",
        "    biggest_2 = float('-inf')\n",
        "    global n\n",
        "    n += 3\n",
        "\n",
        "    for i in range(m):\n",
        "        new = numbers[i]\n",
        "        temp = biggest_1\n",
        "        n += 2\n",
        "        if new > biggest_1:\n",
        "            biggest_2 = biggest_1\n",
        "            biggest_1 = new\n",
        "            n += 2\n",
        "        if temp > biggest_2:\n",
        "            biggest_2 = temp\n",
        "            n += 1\n",
        "        n += 2\n",
        "    return n\n",
        "# Ejecutar la función y medir el tiempo de ejecución\n",
        "start_time = time.time()\n",
        "numbers = [random.randint(1, 100) for _ in range(10)]\n",
        "instruction = instruction(numbers) # Suponiendo que 'numbers' es una lista válida\n",
        "end_time = time.time()\n",
        "\n",
        "# Calcular el número de instrucciones por segundo\n",
        "elapsed_time = end_time - start_time\n",
        "instructions_per_second = instruction / elapsed_time\n",
        "#print(start_time)\n",
        "#print(end_time)\n",
        "print(f\"Número de instrucciones por segundo: {instructions_per_second}\")"
      ],
      "metadata": {
        "id": "fLztHReKaGFq",
        "colab": {
          "base_uri": "https://localhost:8080/"
        },
        "outputId": "f34909b6-9e00-47f5-c14c-dee48d91120e"
      },
      "execution_count": 85,
      "outputs": [
        {
          "output_type": "stream",
          "name": "stdout",
          "text": [
            "Número de instrucciones por segundo: 358620.7881040892\n"
          ]
        }
      ]
    },
    {
      "cell_type": "markdown",
      "metadata": {
        "id": "VMKC5duEOQfk"
      },
      "source": [
        "## Efficient solution with largest and second-largest in an list, array or vector in C++ and Python\n",
        "\n",
        " $$T(n) < 10 n  = O(n)$$\n",
        "\n",
        "\n",
        "\n"
      ]
    },
    {
      "cell_type": "markdown",
      "metadata": {
        "id": "nLcKBwbU0QsE"
      },
      "source": [
        "Add in each line a coment with the number of intstrcution that are executed in that line"
      ]
    },
    {
      "cell_type": "code",
      "execution_count": 86,
      "metadata": {
        "id": "knls5Fh3NSt_",
        "colab": {
          "base_uri": "https://localhost:8080/",
          "height": 356
        },
        "outputId": "33847c70-8117-444f-8401-f17716b257ed"
      },
      "outputs": [
        {
          "output_type": "error",
          "ename": "KeyboardInterrupt",
          "evalue": "Interrupted by user",
          "traceback": [
            "\u001b[0;31m---------------------------------------------------------------------------\u001b[0m",
            "\u001b[0;31mKeyboardInterrupt\u001b[0m                         Traceback (most recent call last)",
            "\u001b[0;32m<ipython-input-86-a3bb45e98afc>\u001b[0m in \u001b[0;36m<cell line: 14>\u001b[0;34m()\u001b[0m\n\u001b[1;32m     12\u001b[0m     \u001b[0;32mreturn\u001b[0m \u001b[0mresult\u001b[0m  \u001b[0;31m# 1 instrucción para retornar el resultado\u001b[0m\u001b[0;34m\u001b[0m\u001b[0;34m\u001b[0m\u001b[0m\n\u001b[1;32m     13\u001b[0m \u001b[0;34m\u001b[0m\u001b[0m\n\u001b[0;32m---> 14\u001b[0;31m \u001b[0mn\u001b[0m \u001b[0;34m=\u001b[0m \u001b[0mint\u001b[0m\u001b[0;34m(\u001b[0m\u001b[0minput\u001b[0m\u001b[0;34m(\u001b[0m\u001b[0;34m)\u001b[0m\u001b[0;34m)\u001b[0m  \u001b[0;31m# 1 instrucción para leer la entrada y convertirla a entero\u001b[0m\u001b[0;34m\u001b[0m\u001b[0;34m\u001b[0m\u001b[0m\n\u001b[0m\u001b[1;32m     15\u001b[0m \u001b[0mnumbers\u001b[0m \u001b[0;34m=\u001b[0m \u001b[0;34m[\u001b[0m\u001b[0mint\u001b[0m\u001b[0;34m(\u001b[0m\u001b[0mi\u001b[0m\u001b[0;34m)\u001b[0m \u001b[0;32mfor\u001b[0m \u001b[0mi\u001b[0m \u001b[0;32min\u001b[0m \u001b[0minput\u001b[0m\u001b[0;34m(\u001b[0m\u001b[0;34m)\u001b[0m\u001b[0;34m.\u001b[0m\u001b[0msplit\u001b[0m\u001b[0;34m(\u001b[0m\u001b[0;34m)\u001b[0m\u001b[0;34m]\u001b[0m  \u001b[0;31m# 2 instrucciones: leer entrada y convertir a lista de enteros\u001b[0m\u001b[0;34m\u001b[0m\u001b[0;34m\u001b[0m\u001b[0m\n\u001b[1;32m     16\u001b[0m \u001b[0mprint\u001b[0m\u001b[0;34m(\u001b[0m\u001b[0mefficientSolution\u001b[0m\u001b[0;34m(\u001b[0m\u001b[0mnumbers\u001b[0m\u001b[0;34m)\u001b[0m\u001b[0;34m)\u001b[0m  \u001b[0;31m# 1 instrucción para llamar a la función y mostrar el resultado\u001b[0m\u001b[0;34m\u001b[0m\u001b[0;34m\u001b[0m\u001b[0m\n",
            "\u001b[0;32m/usr/local/lib/python3.10/dist-packages/ipykernel/kernelbase.py\u001b[0m in \u001b[0;36mraw_input\u001b[0;34m(self, prompt)\u001b[0m\n\u001b[1;32m    849\u001b[0m                 \u001b[0;34m\"raw_input was called, but this frontend does not support input requests.\"\u001b[0m\u001b[0;34m\u001b[0m\u001b[0;34m\u001b[0m\u001b[0m\n\u001b[1;32m    850\u001b[0m             )\n\u001b[0;32m--> 851\u001b[0;31m         return self._input_request(str(prompt),\n\u001b[0m\u001b[1;32m    852\u001b[0m             \u001b[0mself\u001b[0m\u001b[0;34m.\u001b[0m\u001b[0m_parent_ident\u001b[0m\u001b[0;34m,\u001b[0m\u001b[0;34m\u001b[0m\u001b[0;34m\u001b[0m\u001b[0m\n\u001b[1;32m    853\u001b[0m             \u001b[0mself\u001b[0m\u001b[0;34m.\u001b[0m\u001b[0m_parent_header\u001b[0m\u001b[0;34m,\u001b[0m\u001b[0;34m\u001b[0m\u001b[0;34m\u001b[0m\u001b[0m\n",
            "\u001b[0;32m/usr/local/lib/python3.10/dist-packages/ipykernel/kernelbase.py\u001b[0m in \u001b[0;36m_input_request\u001b[0;34m(self, prompt, ident, parent, password)\u001b[0m\n\u001b[1;32m    893\u001b[0m             \u001b[0;32mexcept\u001b[0m \u001b[0mKeyboardInterrupt\u001b[0m\u001b[0;34m:\u001b[0m\u001b[0;34m\u001b[0m\u001b[0;34m\u001b[0m\u001b[0m\n\u001b[1;32m    894\u001b[0m                 \u001b[0;31m# re-raise KeyboardInterrupt, to truncate traceback\u001b[0m\u001b[0;34m\u001b[0m\u001b[0;34m\u001b[0m\u001b[0m\n\u001b[0;32m--> 895\u001b[0;31m                 \u001b[0;32mraise\u001b[0m \u001b[0mKeyboardInterrupt\u001b[0m\u001b[0;34m(\u001b[0m\u001b[0;34m\"Interrupted by user\"\u001b[0m\u001b[0;34m)\u001b[0m \u001b[0;32mfrom\u001b[0m \u001b[0;32mNone\u001b[0m\u001b[0;34m\u001b[0m\u001b[0;34m\u001b[0m\u001b[0m\n\u001b[0m\u001b[1;32m    896\u001b[0m             \u001b[0;32mexcept\u001b[0m \u001b[0mException\u001b[0m \u001b[0;32mas\u001b[0m \u001b[0me\u001b[0m\u001b[0;34m:\u001b[0m\u001b[0;34m\u001b[0m\u001b[0;34m\u001b[0m\u001b[0m\n\u001b[1;32m    897\u001b[0m                 \u001b[0mself\u001b[0m\u001b[0;34m.\u001b[0m\u001b[0mlog\u001b[0m\u001b[0;34m.\u001b[0m\u001b[0mwarning\u001b[0m\u001b[0;34m(\u001b[0m\u001b[0;34m\"Invalid Message:\"\u001b[0m\u001b[0;34m,\u001b[0m \u001b[0mexc_info\u001b[0m\u001b[0;34m=\u001b[0m\u001b[0;32mTrue\u001b[0m\u001b[0;34m)\u001b[0m\u001b[0;34m\u001b[0m\u001b[0;34m\u001b[0m\u001b[0m\n",
            "\u001b[0;31mKeyboardInterrupt\u001b[0m: Interrupted by user"
          ]
        }
      ],
      "source": [
        "def efficientSolution(numbers):  # 1 instrucción para definir la función\n",
        "    largest = 0  # 1 instrucción para asignar el valor 0 a largest\n",
        "    secondLargest = 0  # 1 instrucción para asignar el valor 0 a secondLargest\n",
        "    for i in numbers:  # 1 instrucción para iniciar el bucle\n",
        "        if i > largest:  # 1 instrucción para la comparación i > largest\n",
        "            secondLargest = largest  # 1 instrucción para asignar largest a secondLargest\n",
        "            largest = i  # 1 instrucción para asignar i a largest\n",
        "        elif i > secondLargest:  # 1 instrucción para la comparación i > secondLargest\n",
        "            secondLargest = i  # 1 instrucción para asignar i a secondLargest\n",
        "\n",
        "    result = secondLargest * largest  # 1 instrucción para la multiplicación y asignación a result\n",
        "    return result  # 1 instrucción para retornar el resultado\n",
        "\n",
        "n = int(input())  # 1 instrucción para leer la entrada y convertirla a entero\n",
        "numbers = [int(i) for i in input().split()]  # 2 instrucciones: leer entrada y convertir a lista de enteros\n",
        "print(efficientSolution(numbers))  # 1 instrucción para llamar a la función y mostrar el resultado\n"
      ]
    },
    {
      "cell_type": "markdown",
      "metadata": {
        "id": "-JCijbWxNSii"
      },
      "source": [
        "Test with inputs 1 and 2\n",
        "\n"
      ]
    },
    {
      "cell_type": "code",
      "execution_count": null,
      "metadata": {
        "id": "TrTGAfqlNVXT"
      },
      "outputs": [],
      "source": [
        "!python3 efficientSolution.py < input1.txt\n",
        "!python3 efficientSolution.py < input2.txt"
      ]
    },
    {
      "cell_type": "markdown",
      "metadata": {
        "id": "PRX51wADNR8b"
      },
      "source": [
        "Test and time it with input 3"
      ]
    },
    {
      "cell_type": "code",
      "execution_count": null,
      "metadata": {
        "id": "v4z7-Is_NRt7"
      },
      "outputs": [],
      "source": [
        "!time python3 efficientSolution.py < input3.txt"
      ]
    },
    {
      "cell_type": "markdown",
      "metadata": {
        "id": "rpdfs0_TNZJf"
      },
      "source": [
        "20 stress tests"
      ]
    },
    {
      "cell_type": "code",
      "execution_count": 87,
      "metadata": {
        "id": "Lu4tYcKzNcTT",
        "colab": {
          "base_uri": "https://localhost:8080/"
        },
        "outputId": "3314842f-920b-4ff5-d61c-9aced5e7bf32"
      },
      "outputs": [
        {
          "output_type": "stream",
          "name": "stdout",
          "text": [
            "-------------------------------------------------\n",
            "Testing with the list: [303049580, 20893774, 526024796, 798187025, 821806893, 730153795, 906567609, 588711377]\n",
            "The efficient solution gives the result 745023510046728837\n",
            "The comparison solution gives the result 745023510046728837\n",
            "The solution is correct OK\n",
            "-------------------------------------------------\n",
            "-------------------------------------------------\n",
            "Testing with the list: [185415732, 443064688, 144183992, 347919291]\n",
            "The efficient solution gives the result 154150752116096208\n",
            "The comparison solution gives the result 154150752116096208\n",
            "The solution is correct OK\n",
            "-------------------------------------------------\n",
            "-------------------------------------------------\n",
            "Testing with the list: [306532939, 864758814, 641917469]\n",
            "The efficient solution gives the result 555103789178321766\n",
            "The comparison solution gives the result 555103789178321766\n",
            "The solution is correct OK\n",
            "-------------------------------------------------\n",
            "-------------------------------------------------\n",
            "Testing with the list: [940029965, 965036868]\n",
            "The efficient solution gives the result 907163573249749620\n",
            "The comparison solution gives the result 907163573249749620\n",
            "The solution is correct OK\n",
            "-------------------------------------------------\n",
            "-------------------------------------------------\n",
            "Testing with the list: [971889472, 459526778, 715954576, 675298640, 91812010, 837278149, 936920202, 988613667, 36967724, 602505893, 144100781, 426920414]\n",
            "The efficient solution gives the result 960823214832613824\n",
            "The comparison solution gives the result 960823214832613824\n",
            "The solution is correct OK\n",
            "-------------------------------------------------\n",
            "-------------------------------------------------\n",
            "Testing with the list: [415693964, 884087751, 431990799, 348854906, 515016592, 324379490, 214855300, 255968369, 764664398, 400688407, 323728723, 283827659]\n",
            "The efficient solution gives the result 676030427897588898\n",
            "The comparison solution gives the result 676030427897588898\n",
            "The solution is correct OK\n",
            "-------------------------------------------------\n",
            "-------------------------------------------------\n",
            "Testing with the list: [979932087, 498871533, 403328767, 274185450, 563929203, 753941615, 127177306, 26204544, 845755865, 51135218, 846465414]\n",
            "The efficient solution gives the result 829478619714339018\n",
            "The comparison solution gives the result 829478619714339018\n",
            "The solution is correct OK\n",
            "-------------------------------------------------\n",
            "-------------------------------------------------\n",
            "Testing with the list: [692133831, 26286142, 275167320, 858777369, 620584750, 18883033, 181426962, 625213593]\n",
            "The efficient solution gives the result 594388870382070639\n",
            "The comparison solution gives the result 594388870382070639\n",
            "The solution is correct OK\n",
            "-------------------------------------------------\n",
            "-------------------------------------------------\n",
            "Testing with the list: [934418676, 484883041]\n",
            "The efficient solution gives the result 453083769186073716\n",
            "The comparison solution gives the result 453083769186073716\n",
            "The solution is correct OK\n",
            "-------------------------------------------------\n",
            "-------------------------------------------------\n",
            "Testing with the list: [613968641]\n",
            "The efficient solution gives the result 0\n",
            "The comparison solution gives the result 0\n",
            "The solution is correct OK\n",
            "-------------------------------------------------\n",
            "-------------------------------------------------\n",
            "Testing with the list: [421672741, 353887755, 660317214, 311249404]\n",
            "The efficient solution gives the result 278437769556863574\n",
            "The comparison solution gives the result 278437769556863574\n",
            "The solution is correct OK\n",
            "-------------------------------------------------\n",
            "-------------------------------------------------\n",
            "Testing with the list: [634442539, 478883180, 789732346, 451015720, 238533742, 369567664, 203902189, 177910466, 189584506, 243419946, 43337224]\n",
            "The efficient solution gives the result 501039794726666494\n",
            "The comparison solution gives the result 501039794726666494\n",
            "The solution is correct OK\n",
            "-------------------------------------------------\n",
            "-------------------------------------------------\n",
            "Testing with the list: [945068937, 100260247, 477736251, 949059027]\n",
            "The efficient solution gives the result 896926205797144299\n",
            "The comparison solution gives the result 896926205797144299\n",
            "The solution is correct OK\n",
            "-------------------------------------------------\n",
            "-------------------------------------------------\n",
            "Testing with the list: [795094661, 328111426, 356537308, 162121489]\n",
            "The efficient solution gives the result 283480910038112588\n",
            "The comparison solution gives the result 283480910038112588\n",
            "The solution is correct OK\n",
            "-------------------------------------------------\n",
            "-------------------------------------------------\n",
            "Testing with the list: [680059886, 855570312]\n",
            "The efficient solution gives the result 581839048843704432\n",
            "The comparison solution gives the result 581839048843704432\n",
            "The solution is correct OK\n",
            "-------------------------------------------------\n",
            "-------------------------------------------------\n",
            "Testing with the list: [70977354]\n",
            "The efficient solution gives the result 0\n",
            "The comparison solution gives the result 0\n",
            "The solution is correct OK\n",
            "-------------------------------------------------\n",
            "-------------------------------------------------\n",
            "Testing with the list: [796859682, 216761885, 79879032, 129101809, 653926747, 749862461, 863141258]\n",
            "The efficient solution gives the result 687802468370959956\n",
            "The comparison solution gives the result 687802468370959956\n",
            "The solution is correct OK\n",
            "-------------------------------------------------\n",
            "-------------------------------------------------\n",
            "Testing with the list: [306773715, 45104627]\n",
            "The efficient solution gives the result 13836913988479305\n",
            "The comparison solution gives the result 13836913988479305\n",
            "The solution is correct OK\n",
            "-------------------------------------------------\n",
            "-------------------------------------------------\n",
            "Testing with the list: [913248132, 940640603, 981977770, 131649603, 855276741, 634742624, 756194610]\n",
            "The efficient solution gives the result 923688161705395310\n",
            "The comparison solution gives the result 923688161705395310\n",
            "The solution is correct OK\n",
            "-------------------------------------------------\n",
            "-------------------------------------------------\n",
            "Testing with the list: [704720694, 59003669]\n",
            "The efficient solution gives the result 41581106566226286\n",
            "The comparison solution gives the result 41581106566226286\n",
            "The solution is correct OK\n",
            "-------------------------------------------------\n"
          ]
        }
      ],
      "source": [
        "import random\n",
        "def efficientSolution(numbers):\n",
        "    largest = 0\n",
        "    secondLargest = 0\n",
        "    for i in numbers:\n",
        "        if i > largest:\n",
        "            secondLargest = largest\n",
        "            largest = i\n",
        "        elif i > secondLargest:\n",
        "            secondLargest = i\n",
        "\n",
        "    return secondLargest * largest\n",
        "\n",
        "def max_pairwise_product(numbers):\n",
        "    max_product = 0\n",
        "    n = len(numbers)\n",
        "\n",
        "    for first in range(n):\n",
        "        for second in range(n):\n",
        "            if first != second:\n",
        "                aux_product = numbers[first] * numbers[second]\n",
        "                if aux_product > max_product:\n",
        "                    max_product = aux_product\n",
        "\n",
        "    return max_product\n",
        "\n",
        "for _ in range(20):  # Run the test 10 times\n",
        "    n = random.randint(1, 12)  # Use a large n\n",
        "    numbers = [random.randint(1, 10**9) for _ in range(n)]  # Generate n random numbers between 1 and 10^9\n",
        "\n",
        "    print(\"-------------------------------------------------\")\n",
        "    print(f\"Testing with the list: {numbers}\")\n",
        "    print(f\"The efficient solution gives the result {efficientSolution(numbers)}\")\n",
        "    print(f\"The comparison solution gives the result {max_pairwise_product(numbers)}\")\n",
        "    if efficientSolution(numbers) == max_pairwise_product(numbers):\n",
        "        print(\"The solution is correct OK\")\n",
        "    else:\n",
        "        print(\"ERROR\")\n",
        "    print(\"-------------------------------------------------\")\n",
        "\n",
        "\n"
      ]
    },
    {
      "cell_type": "markdown",
      "metadata": {
        "id": "L8U4151JNbxk"
      },
      "source": [
        "Count executed instructions in code and verify with inputs 1,2 and 3\n"
      ]
    },
    {
      "cell_type": "code",
      "execution_count": 88,
      "metadata": {
        "id": "dh85RM8vNhFz",
        "colab": {
          "base_uri": "https://localhost:8080/"
        },
        "outputId": "d11bbebe-7e65-4079-86c9-c5ecee329dea"
      },
      "outputs": [
        {
          "output_type": "stream",
          "name": "stdout",
          "text": [
            "Writing efficientSolutionexcec.py\n"
          ]
        }
      ],
      "source": [
        "%%writefile efficientSolutionexcec.py\n",
        "exceintspy= 0\n",
        "def efficientSolution(numbers):\n",
        "    global exceintspy\n",
        "    largest = 0\n",
        "    exceintspy+=1\n",
        "    secondLargest = 0\n",
        "    exceintspy+=1\n",
        "    exceintspy+=1\n",
        "    for i in numbers:\n",
        "        exceintspy+=2\n",
        "        exceintspy+=1\n",
        "        if i > largest:\n",
        "            secondLargest = largest\n",
        "            exceintspy+=1\n",
        "            largest = i\n",
        "            exceintspy+=1\n",
        "        elif i > secondLargest:\n",
        "            secondLargest = i\n",
        "            exceintspy+=1\n",
        "    exceintspy+=1\n",
        "    result= secondLargest * largest\n",
        "    exceintspy+=2 # multiplciation instruction\n",
        "    return result\n",
        "\n",
        "n = int(input())\n",
        "exceintspy+=1\n",
        "numbers = [int(i) for i in input().split()]\n",
        "exceintspy+=n\n",
        "print(efficientSolution(numbers))\n",
        "exceintspy+=1\n",
        "print(f\"Execution Times: {exceintspy}\")"
      ]
    },
    {
      "cell_type": "markdown",
      "metadata": {
        "id": "K6ybgCmpNygr"
      },
      "source": [
        "Calculate estimated time by instruction and number of instructions by second"
      ]
    },
    {
      "cell_type": "code",
      "execution_count": 89,
      "metadata": {
        "id": "kwe3G1O3Nz1w",
        "colab": {
          "base_uri": "https://localhost:8080/"
        },
        "outputId": "7e65e0fe-4550-4720-c01d-22e20b2eed57"
      },
      "outputs": [
        {
          "output_type": "stream",
          "name": "stdout",
          "text": [
            "\n",
            "real\t0m0.165s\n",
            "user\t0m0.136s\n",
            "sys\t0m0.026s\n",
            "Execution Times: 1200008\n"
          ]
        }
      ],
      "source": [
        "!time python3 efficientSolutionexcec.py< input11.txt > ptest.txt\n",
        "!grep -xvFf output11.txt ptest.txt"
      ]
    },
    {
      "cell_type": "markdown",
      "source": [
        "### Estimate and verify the maximun n that can be solved in 1 second"
      ],
      "metadata": {
        "id": "v8GY6n_ZaJ4P"
      }
    },
    {
      "cell_type": "code",
      "source": [
        "%%writefile efficientSolution.py\n",
        "def efficientSolution(numbers):\n",
        "    largest = 0                     #1\n",
        "    secondLargest = 0               #1\n",
        "    for i in numbers:               #2+2n\n",
        "        if i > largest:\n",
        "            secondLargest = largest\n",
        "            largest = i\n",
        "        elif i > secondLargest:\n",
        "            secondLargest = i\n",
        "    #WORST CASE 3n\n",
        "    result= secondLargest * largest    #3\n",
        "    return result\n",
        "\n",
        "n = int(input())                            #1\n",
        "numbers = [int(i) for i in input().split()] #n\n",
        "print(efficientSolution(numbers))           #1"
      ],
      "metadata": {
        "id": "z3xjzg1YaKk6",
        "colab": {
          "base_uri": "https://localhost:8080/"
        },
        "outputId": "eeab1d09-5f16-47d4-a555-d1ab1ed442d2"
      },
      "execution_count": 90,
      "outputs": [
        {
          "output_type": "stream",
          "name": "stdout",
          "text": [
            "Writing efficientSolution.py\n"
          ]
        }
      ]
    },
    {
      "cell_type": "markdown",
      "metadata": {
        "id": "sUpIWcykOGpT"
      },
      "source": [
        "## Super efficient solution\n",
        "\n",
        "Whitout storing the list in memory, only stpring the largest and second largest and whitout calling a function, add in each line a coment with the number of instructions that are executed in that line\n",
        "\n",
        "in C++ and Python\n",
        "\n",
        "\n",
        " $$T(n) < 13 n  = O(n)$$\n"
      ]
    },
    {
      "cell_type": "code",
      "execution_count": 91,
      "metadata": {
        "id": "hBLt_xBQLy8E",
        "colab": {
          "base_uri": "https://localhost:8080/"
        },
        "outputId": "54a02062-5f0f-4c6d-d1b1-094924d270c2"
      },
      "outputs": [
        {
          "output_type": "stream",
          "name": "stdout",
          "text": [
            "Writing max_pairwise_efficient.cpp\n"
          ]
        }
      ],
      "source": [
        "%%writefile max_pairwise_efficient.cpp\n",
        "\n",
        "#include <iostream>\n",
        "#include <limits>\n",
        "\n",
        "long long max_pairwise_efficient() {\n",
        "    int n;            //1\n",
        "    std::cin >> n;    //1\n",
        "\n",
        "    long long biggest_1 = std::numeric_limits<long long>::min(); //1\n",
        "    long long biggest_2 = std::numeric_limits<long long>::min(); //1\n",
        "\n",
        "    for (int i = 0; i < n; ++i) {  //2 + 2n\n",
        "        int new_number;\n",
        "        std::cin >> new_number;\n",
        "        if (new_number > biggest_1) {\n",
        "            biggest_2 = biggest_1;\n",
        "            biggest_1 = new_number;\n",
        "        } else if (new_number > biggest_2) {\n",
        "            biggest_2 = new_number;\n",
        "        }\n",
        "    }\n",
        "\n",
        "    return biggest_1 * biggest_2; //1\n",
        "}\n",
        "\n",
        "int main() {\n",
        "    std::cout << max_pairwise_efficient() << std::endl; //1\n",
        "    return 0; //1\n",
        "}\n"
      ]
    },
    {
      "cell_type": "code",
      "source": [
        "!g++ max_pairwise_efficient.cpp -o max_pairwise_efficient -std=c++11\n",
        "!./max_pairwise_efficient"
      ],
      "metadata": {
        "id": "dgQnUTCX06Tc",
        "colab": {
          "base_uri": "https://localhost:8080/"
        },
        "outputId": "c9b29152-720a-4fe0-f462-293fed9ccbc6"
      },
      "execution_count": 92,
      "outputs": [
        {
          "output_type": "stream",
          "name": "stdout",
          "text": [
            "^C\n"
          ]
        }
      ]
    },
    {
      "cell_type": "markdown",
      "metadata": {
        "id": "683gc3roHqzb"
      },
      "source": [
        "Test with inputs 1 and 2\n",
        "\n",
        "\n"
      ]
    },
    {
      "cell_type": "code",
      "execution_count": 93,
      "metadata": {
        "id": "b7d4LA8OIc2_",
        "colab": {
          "base_uri": "https://localhost:8080/"
        },
        "outputId": "e491d240-6578-4ea5-d02c-df923765c85a"
      },
      "outputs": [
        {
          "output_type": "stream",
          "name": "stdout",
          "text": [
            "90\n",
            "90\n"
          ]
        }
      ],
      "source": [
        "!g++ max_pairwise_efficient.cpp -o max_pairwise_efficient -std=c++11\n",
        "!./max_pairwise_efficient < input1.txt\n",
        "!./max_pairwise_efficient < input2.txt"
      ]
    },
    {
      "cell_type": "markdown",
      "metadata": {
        "id": "36Ugn1odIeJz"
      },
      "source": [
        "Test and time it with input 3"
      ]
    },
    {
      "cell_type": "code",
      "execution_count": 94,
      "metadata": {
        "id": "jDyMbCnxHqSN",
        "colab": {
          "base_uri": "https://localhost:8080/"
        },
        "outputId": "f359fbc3-11ef-41c4-fe92-127fc309b4b6"
      },
      "outputs": [
        {
          "output_type": "stream",
          "name": "stdout",
          "text": [
            "40000000000\n"
          ]
        }
      ],
      "source": [
        "!g++ max_pairwise_efficient.cpp -o max_pairwise_efficient -std=c++11\n",
        "!./max_pairwise_efficient < input3.txt"
      ]
    },
    {
      "cell_type": "markdown",
      "metadata": {
        "id": "bhqiKQG6fjKM"
      },
      "source": [
        "20 stress tests"
      ]
    },
    {
      "cell_type": "code",
      "execution_count": 95,
      "metadata": {
        "id": "2KsiXKhALzwm",
        "colab": {
          "base_uri": "https://localhost:8080/"
        },
        "outputId": "34085079-4256-47ef-c7ee-07cb42a0c8e2"
      },
      "outputs": [
        {
          "output_type": "stream",
          "name": "stdout",
          "text": [
            "Writing stressTestmax_pairwise_efficient.cpp\n"
          ]
        }
      ],
      "source": [
        "%%writefile stressTestmax_pairwise_efficient.cpp\n",
        "#include <iostream>\n",
        "#include <vector>\n",
        "#include <algorithm>\n",
        "#include <random>\n",
        "long long max_pairwise_efficient(const std::vector<int>& numbers) {\n",
        "    int n = numbers.size(); //1\n",
        "\n",
        "    long long biggest_1 = std::numeric_limits<long long>::min(); //1\n",
        "    long long biggest_2 = std::numeric_limits<long long>::min(); //1\n",
        "\n",
        "    for (int i = 0; i < n; ++i) { //2+2n\n",
        "        int new_number = numbers[i];\n",
        "        if (new_number > biggest_1) {\n",
        "            biggest_2 = biggest_1;\n",
        "            biggest_1 = new_number;\n",
        "        } else if (new_number > biggest_2) { //2+2n\n",
        "            biggest_2 = new_number;\n",
        "        }\n",
        "    }\n",
        "\n",
        "    return biggest_1 * biggest_2;//1\n",
        "}\n",
        "\n",
        "int main() {\n",
        "    // 20 stress tests\n",
        "    for (int test = 1; test <= 20; ++test) { //2+2n\n",
        "        int n = rand() % 11 + 2;  // Use a large n\n",
        "        std::vector<int> numbers(n);\n",
        "\n",
        "        // Generate n random numbers between 1 and 10^9\n",
        "        for (int i = 0; i < n; ++i) {        //2+2n\n",
        "            numbers[i] = rand() % 1000000000 + 1;\n",
        "        }\n",
        "\n",
        "        std::cout << \"-------------------------------------------------\" << std::endl; //1\n",
        "        std::cout << \"Testing with the list: \"; //1\n",
        "        for (int i = 0; i < n; ++i) {           //1\n",
        "            std::cout << numbers[i] << \" \";     //1\n",
        "        }\n",
        "        std::cout << std::endl;//1\n",
        "\n",
        "        std::cout << \"The efficient solution gives the result: \" << max_pairwise_efficient(numbers) << std::endl; //1\n",
        "\n",
        "        // Add any additional test or comparison here if needed\n",
        "\n",
        "        std::cout << \"-------------------------------------------------\" << std::endl; //1\n",
        "    }\n",
        "\n",
        "    return 0;\n",
        "}"
      ]
    },
    {
      "cell_type": "code",
      "source": [
        "!g++ stressTestmax_pairwise_efficient.cpp -o stressTestmax_pairwise_efficient -std=c++11\n",
        "!./stressTestmax_pairwise_efficient"
      ],
      "metadata": {
        "id": "tLp_JpRz0-CU",
        "colab": {
          "base_uri": "https://localhost:8080/"
        },
        "outputId": "10ec48d6-d9fc-4309-d946-c566379ab452"
      },
      "execution_count": 96,
      "outputs": [
        {
          "output_type": "stream",
          "name": "stdout",
          "text": [
            "-------------------------------------------------\n",
            "Testing with the list: 846930887 681692778 714636916 957747794 424238336 719885387 649760493 596516650 \n",
            "The efficient solution gives the result: 811146188694713278\n",
            "-------------------------------------------------\n",
            "-------------------------------------------------\n",
            "Testing with the list: 25202363 350490028 783368691 \n",
            "The efficient solution gives the result: 274562914442913348\n",
            "-------------------------------------------------\n",
            "-------------------------------------------------\n",
            "Testing with the list: 44897764 967513927 365180541 540383427 304089173 \n",
            "The efficient solution gives the result: 522828491542487829\n",
            "-------------------------------------------------\n",
            "-------------------------------------------------\n",
            "Testing with the list: 35005212 521595369 \n",
            "The efficient solution gives the result: 18258556470063228\n",
            "-------------------------------------------------\n",
            "-------------------------------------------------\n",
            "Testing with the list: 726956430 336465783 861021531 278722863 233665124 145174068 468703136 \n",
            "The efficient solution gives the result: 625925138328894330\n",
            "-------------------------------------------------\n",
            "-------------------------------------------------\n",
            "Testing with the list: 801979803 315634023 635723059 369133070 125898168 59961394 89018457 628175012 656478043 131176230 653377374 859484422 \n",
            "The efficient solution gives the result: 689289147437128866\n",
            "-------------------------------------------------\n",
            "-------------------------------------------------\n",
            "Testing with the list: 608413785 756898538 734575199 \n",
            "The efficient solution gives the result: 555998894174159062\n",
            "-------------------------------------------------\n",
            "-------------------------------------------------\n",
            "Testing with the list: 149798316 38664371 129566414 184803527 412776092 424268981 911759957 749241874 137806863 42999171 982906997 \n",
            "The efficient solution gives the result: 896175241319719129\n",
            "-------------------------------------------------\n",
            "-------------------------------------------------\n",
            "Testing with the list: 511702306 84420926 937477085 827336328 572660337 159126506 805750847 632621730 100661314 \n",
            "The efficient solution gives the result: 775608849088043880\n",
            "-------------------------------------------------\n",
            "-------------------------------------------------\n",
            "Testing with the list: 141616125 84353896 939819583 \n",
            "The efficient solution gives the result: 133093607543575875\n",
            "-------------------------------------------------\n",
            "-------------------------------------------------\n",
            "Testing with the list: 998898815 548233368 610515435 585990365 374344044 760313751 \n",
            "The efficient solution gives the result: 759476504902105065\n",
            "-------------------------------------------------\n",
            "-------------------------------------------------\n",
            "Testing with the list: 356426809 945117277 889947179 780695789 709393585 491705404 918502652 752392755 474612400 \n",
            "The efficient solution gives the result: 868092725375518604\n",
            "-------------------------------------------------\n",
            "-------------------------------------------------\n",
            "Testing with the list: 264095061 411549677 843993369 943947740 984210013 855636227 749698587 469348095 \n",
            "The efficient solution gives the result: 929042817456720620\n",
            "-------------------------------------------------\n",
            "-------------------------------------------------\n",
            "Testing with the list: 36140796 463480571 40651435 975960379 317097468 892066602 376710098 927612903 330573318 603570493 687926653 \n",
            "The efficient solution gives the result: 905313440377170237\n",
            "-------------------------------------------------\n",
            "-------------------------------------------------\n",
            "Testing with the list: 959997302 485560281 402724287 \n",
            "The efficient solution gives the result: 466136559718361862\n",
            "-------------------------------------------------\n",
            "-------------------------------------------------\n",
            "Testing with the list: 194953866 894429690 \n",
            "The efficient solution gives the result: 174372525930681540\n",
            "-------------------------------------------------\n",
            "-------------------------------------------------\n",
            "Testing with the list: 947346620 221558441 270744730 63958032 633108118 114738098 7905772 469834482 822890676 610120710 \n",
            "The efficient solution gives the result: 779562700538115120\n",
            "-------------------------------------------------\n",
            "-------------------------------------------------\n",
            "Testing with the list: 631704568 498777857 255179498 524872354 327254587 572276966 269455307 703964684 352406220 600028625 \n",
            "The efficient solution gives the result: 444697706593476512\n",
            "-------------------------------------------------\n",
            "-------------------------------------------------\n",
            "Testing with the list: 40332872 112805733 120048830 378409504 515530020 713258271 573363369 409959709 77486716 373226341 631518150 200747797 \n",
            "The efficient solution gives the result: 450435543774118650\n",
            "-------------------------------------------------\n",
            "-------------------------------------------------\n",
            "Testing with the list: 117142619 168002246 150122847 439493452 990892922 760243556 \n",
            "The efficient solution gives the result: 753319958636510632\n",
            "-------------------------------------------------\n"
          ]
        }
      ]
    },
    {
      "cell_type": "markdown",
      "metadata": {
        "id": "fEXj8GHJH5p1"
      },
      "source": [
        "Count executed instructions in code and verify with inputs 1,2 and 3"
      ]
    },
    {
      "cell_type": "code",
      "execution_count": 97,
      "metadata": {
        "id": "LF1DHjKXIAsF",
        "colab": {
          "base_uri": "https://localhost:8080/"
        },
        "outputId": "cec5ea2f-b9c6-43ff-c6ef-1452d25d8824"
      },
      "outputs": [
        {
          "output_type": "stream",
          "name": "stdout",
          "text": [
            "Writing max_pairwise_efficient2.cpp\n"
          ]
        }
      ],
      "source": [
        "%%writefile max_pairwise_efficient2.cpp\n",
        "#include <iostream>\n",
        "#include <vector>\n",
        "#include <limits>\n",
        "\n",
        "int execints = 0;\n",
        "\n",
        "long long max_pairwise_efficient(const std::vector<int>& numbers) {\n",
        "    int n = numbers.size(); //1\n",
        "    long long biggest_1 = std::numeric_limits<long long>::min(); //1\n",
        "    long long biggest_2 = std::numeric_limits<long long>::min(); //1\n",
        "    execints += 3;\n",
        "\n",
        "    for (int i = 0; i < n; ++i) { //2+2n\n",
        "        int new_number = numbers[i];\n",
        "        long long temp = biggest_1;\n",
        "        if (new_number > biggest_1) {\n",
        "            execints += 2;  // Contar la comparación y la actualización\n",
        "            biggest_2 = biggest_1;\n",
        "            biggest_1 = new_number;\n",
        "        }\n",
        "        if (temp > biggest_2) {\n",
        "            execints += 2;  // Contar la comparación y la actualización\n",
        "            biggest_2 = temp;\n",
        "        }\n",
        "        execints += 2;  // Contar las dos comparaciones\n",
        "    }\n",
        "    execints += 2;  // Contar el aumento final y el retorno\n",
        "\n",
        "    return execints;\n",
        "\n",
        "}\n",
        "\n",
        "int main() {\n",
        "    int n; //1\n",
        "    std::cin >> n; //1\n",
        "    std::vector<int> numbers(n); //1\n",
        "    for (int i = 0; i < n; ++i) { //2+2n\n",
        "        std::cin >> numbers[i];\n",
        "    }\n",
        "    long long result = max_pairwise_efficient(numbers); //1\n",
        "    std::cout << \"El numero de instrucciones es: \" << execints << \"\\n\"; //1\n",
        "    return 0;\n",
        "}"
      ]
    },
    {
      "cell_type": "code",
      "source": [
        "%%writefile run_all_test.sh\n",
        "#!/bin/bash\n",
        "g++ max_pairwise_efficient2.cpp -o max_pairwise_efficient2\n",
        "for i in {1..3}\n",
        "do\n",
        "    echo \"Input #$i\"\n",
        "    ./max_pairwise_efficient2< input$i.txt\n",
        "done"
      ],
      "metadata": {
        "id": "EFM-ruh91ATW",
        "colab": {
          "base_uri": "https://localhost:8080/"
        },
        "outputId": "a051ba5e-6f96-43dd-c7c4-6f6feb56d293"
      },
      "execution_count": 98,
      "outputs": [
        {
          "output_type": "stream",
          "name": "stdout",
          "text": [
            "Overwriting run_all_test.sh\n"
          ]
        }
      ]
    },
    {
      "cell_type": "code",
      "source": [
        "!chmod u+x run_all_test.sh\n",
        "!./run_all_test.sh\n"
      ],
      "metadata": {
        "id": "JhonqGZo1A-n",
        "colab": {
          "base_uri": "https://localhost:8080/"
        },
        "outputId": "d5a24206-e02b-4f16-9dd7-29682cbbd317"
      },
      "execution_count": 99,
      "outputs": [
        {
          "output_type": "stream",
          "name": "stdout",
          "text": [
            "Input #1\n",
            "El numero de instrucciones es: 45\n",
            "Input #2\n",
            "El numero de instrucciones es: 29\n",
            "Input #3\n",
            "El numero de instrucciones es: 25\n"
          ]
        }
      ]
    },
    {
      "cell_type": "markdown",
      "metadata": {
        "id": "yae7sSm2IG9U"
      },
      "source": [
        "Calculate estimated time by instruction and number of instructions by second"
      ]
    },
    {
      "cell_type": "code",
      "execution_count": 100,
      "metadata": {
        "id": "suouY7BYL2dz",
        "colab": {
          "base_uri": "https://localhost:8080/"
        },
        "outputId": "1ec173f9-f4f3-4710-fa97-7760bbc17c63"
      },
      "outputs": [
        {
          "output_type": "execute_result",
          "data": {
            "text/plain": [
              "2.5624887891115476e-07"
            ]
          },
          "metadata": {},
          "execution_count": 100
        }
      ],
      "source": [
        "time_per_instruction = 0.41/1600007\n",
        "time_per_instruction"
      ]
    },
    {
      "cell_type": "markdown",
      "metadata": {
        "id": "sy33CNNfPxcE"
      },
      "source": [
        "### Super efficient solution in Python\n",
        "\n",
        "Whitout storing the list in memory and whitout calling a function, add in each line a coment with the number of intstrcution that are executed in that line"
      ]
    },
    {
      "cell_type": "code",
      "execution_count": 101,
      "metadata": {
        "id": "_mOjJwKrPxcJ",
        "colab": {
          "base_uri": "https://localhost:8080/"
        },
        "outputId": "2a3ef785-e01b-4f9d-971c-518093a63224"
      },
      "outputs": [
        {
          "output_type": "stream",
          "name": "stdout",
          "text": [
            "Writing max_efficient.py\n"
          ]
        }
      ],
      "source": [
        "%%writefile max_efficient.py\n",
        "\n",
        "def max_pairwise_efficient():\n",
        "    n = int(input())\n",
        "    values = input().split()\n",
        "    biggest_1 = float('-inf')\n",
        "    biggest_2 = float('-inf')\n",
        "\n",
        "    for new in map(int, values):\n",
        "        temp = biggest_1\n",
        "        if new > biggest_1:\n",
        "            biggest_2 = biggest_1\n",
        "            biggest_1 = new\n",
        "        if temp > biggest_2:\n",
        "            biggest_2 = temp\n",
        "\n",
        "    return biggest_1 * biggest_2\n",
        "\n",
        "if __name__ == '__main__':\n",
        "    print(max_pairwise_efficient())"
      ]
    },
    {
      "cell_type": "markdown",
      "metadata": {
        "id": "K08Eow0hPxcJ"
      },
      "source": [
        "Test with inputs 1 and 2\n",
        "\n",
        "\n"
      ]
    },
    {
      "cell_type": "code",
      "execution_count": 102,
      "metadata": {
        "id": "1_mUee2cPxcJ",
        "colab": {
          "base_uri": "https://localhost:8080/"
        },
        "outputId": "1fb85588-1ea1-4616-a3b0-27a84015a788"
      },
      "outputs": [
        {
          "output_type": "stream",
          "name": "stdout",
          "text": [
            "Writing max_efficient2.py\n"
          ]
        }
      ],
      "source": [
        "%%writefile max_efficient2.py\n",
        "\n",
        "def max_pairwise_efficient():\n",
        "    n = int(input())\n",
        "    values = input().split()\n",
        "    biggest_1 = float('-inf')\n",
        "    biggest_2 = float('-inf')\n",
        "\n",
        "    for new in map(int, values):\n",
        "        temp = biggest_1\n",
        "        if new > biggest_1:\n",
        "            biggest_2 = biggest_1\n",
        "            biggest_1 = new\n",
        "        elif temp > biggest_2:\n",
        "            biggest_2 = temp\n",
        "\n",
        "    return biggest_1 * biggest_2\n",
        "\n",
        "if __name__ == '__main__':\n",
        "    print(max_pairwise_efficient())"
      ]
    },
    {
      "cell_type": "code",
      "source": [
        "%%writefile run_all_test2.sh\n",
        "#comparing all the executions to check the differences between the outputs\n",
        "for i in {1..2}\n",
        "do\n",
        "    python3 max_efficient2.py < input$i.txt > pythonOutput$i.txt\n",
        "done"
      ],
      "metadata": {
        "id": "v0ULHnZN1FR8",
        "colab": {
          "base_uri": "https://localhost:8080/"
        },
        "outputId": "68f64b3e-95bd-40fc-d9f8-e6eb2cf06682"
      },
      "execution_count": 103,
      "outputs": [
        {
          "output_type": "stream",
          "name": "stdout",
          "text": [
            "Writing run_all_test2.sh\n"
          ]
        }
      ]
    },
    {
      "cell_type": "code",
      "source": [
        "!chmod u+x run_all_test2.sh\n",
        "!./run_all_test.sh"
      ],
      "metadata": {
        "id": "qO4Xbixg1Ga9",
        "colab": {
          "base_uri": "https://localhost:8080/"
        },
        "outputId": "41efffbb-8d6a-45f0-ab4a-12270ceae347"
      },
      "execution_count": 104,
      "outputs": [
        {
          "output_type": "stream",
          "name": "stdout",
          "text": [
            "Input #1\n",
            "El numero de instrucciones es: 45\n",
            "Input #2\n",
            "El numero de instrucciones es: 29\n",
            "Input #3\n",
            "El numero de instrucciones es: 25\n"
          ]
        }
      ]
    },
    {
      "cell_type": "markdown",
      "metadata": {
        "id": "CE5DB3CmPxcJ"
      },
      "source": [
        "Test and time it with input 3"
      ]
    },
    {
      "cell_type": "code",
      "execution_count": 105,
      "metadata": {
        "id": "lyLhFOoePxcJ",
        "colab": {
          "base_uri": "https://localhost:8080/"
        },
        "outputId": "5e1f4b87-bd44-4d77-8aa0-baacec7e838d"
      },
      "outputs": [
        {
          "output_type": "stream",
          "name": "stdout",
          "text": [
            "\n",
            "real\t0m0.038s\n",
            "user\t0m0.021s\n",
            "sys\t0m0.014s\n"
          ]
        }
      ],
      "source": [
        "!time python3 max_efficient2.py < input3.txt > pythonOutput3.txt"
      ]
    },
    {
      "cell_type": "markdown",
      "metadata": {
        "id": "HZEI236lPxcK"
      },
      "source": [
        "20 stress tests"
      ]
    },
    {
      "cell_type": "code",
      "execution_count": 106,
      "metadata": {
        "id": "_LoV-p4zPxcK",
        "colab": {
          "base_uri": "https://localhost:8080/"
        },
        "outputId": "a116284e-b6d7-436f-986f-f051a59e4888"
      },
      "outputs": [
        {
          "output_type": "stream",
          "name": "stdout",
          "text": [
            "-------------------------------------------------\n",
            "Testing with the list: [102938099, 916746048, 950520933, 418828843]\n",
            "The efficient solution gives the result 903490044071190489\n",
            "-------------------------------------------------\n",
            "-------------------------------------------------\n",
            "Testing with the list: [731626740, 297787584]\n",
            "The efficient solution gives the result 535277686683027600\n",
            "-------------------------------------------------\n",
            "-------------------------------------------------\n",
            "Testing with the list: [517935555, 21116598, 235098784, 787330595]\n",
            "The efficient solution gives the result 407786508689805225\n",
            "-------------------------------------------------\n",
            "-------------------------------------------------\n",
            "Testing with the list: [629700030, 926258817, 98567242, 14318658, 534998366]\n",
            "The efficient solution gives the result 857955396070239489\n",
            "-------------------------------------------------\n",
            "-------------------------------------------------\n",
            "Testing with the list: [302273264, 544339639, 266809538, 810936969, 847663071, 880781146, 769223303, 104184377]\n",
            "The efficient solution gives the result 775775427149073316\n",
            "-------------------------------------------------\n",
            "-------------------------------------------------\n",
            "Testing with the list: [454695720, 257413422, 164087057, 469347063, 158555724, 752099201]\n",
            "The efficient solution gives the result 352995551073996663\n",
            "-------------------------------------------------\n",
            "-------------------------------------------------\n",
            "Testing with the list: [435055202, 190591214, 595317709, 122953031]\n",
            "The efficient solution gives the result 354403174649008681\n",
            "-------------------------------------------------\n",
            "-------------------------------------------------\n",
            "Testing with the list: [354275995, 612748357, 765979721, 427281927, 374250223, 735374063]\n",
            "The efficient solution gives the result 586724932983237841\n",
            "-------------------------------------------------\n",
            "-------------------------------------------------\n",
            "Testing with the list: [135799910, 87364426, 619546977, 126623336, 236527376]\n",
            "The efficient solution gives the result 383838456709838529\n",
            "-------------------------------------------------\n",
            "-------------------------------------------------\n",
            "Testing with the list: [72631285, 986210960, 981029354, 772029624, 743760059, 89466299, 994785, 808414526]\n",
            "The efficient solution gives the result 972612057624121600\n",
            "-------------------------------------------------\n",
            "-------------------------------------------------\n",
            "Testing with the list: [168870427, 401882868, 471532074, 446902803, 990096177, 724720147, 472089161]\n",
            "The efficient solution gives the result 980290439710015329\n",
            "-------------------------------------------------\n",
            "-------------------------------------------------\n",
            "Testing with the list: [776026466, 362464358, 167178331, 288911884, 281936898, 707456141]\n",
            "The efficient solution gives the result 602217075932449156\n",
            "-------------------------------------------------\n",
            "-------------------------------------------------\n",
            "Testing with the list: [151227385, 174155320, 455844484, 23177276, 754145624, 730663641, 826173008, 707933925]\n",
            "The efficient solution gives the result 682561839147768064\n",
            "-------------------------------------------------\n",
            "-------------------------------------------------\n",
            "Testing with the list: [741578029, 928399293, 980528855, 47323487, 426810056, 989056800, 84596142]\n",
            "The efficient solution gives the result 978233353626240000\n",
            "-------------------------------------------------\n",
            "-------------------------------------------------\n",
            "Testing with the list: [660640485, 486862106, 265056860, 267920266, 914876244, 794169705, 811066811, 733550009, 301934290]\n",
            "The efficient solution gives the result 836998541835547536\n",
            "-------------------------------------------------\n",
            "-------------------------------------------------\n",
            "Testing with the list: [129118094, 568292734, 117527033]\n",
            "The efficient solution gives the result 322956631517194756\n",
            "-------------------------------------------------\n",
            "-------------------------------------------------\n",
            "Testing with the list: [590613903, 889754935, 436236955, 659713964, 234877007, 342905055, 868598535, 347818387, 174404909, 453715734]\n",
            "The efficient solution gives the result 791663844356854225\n",
            "-------------------------------------------------\n",
            "-------------------------------------------------\n",
            "Testing with the list: [719657524, 124582591, 88029073, 385205539]\n",
            "The efficient solution gives the result 517906951849810576\n",
            "-------------------------------------------------\n",
            "-------------------------------------------------\n",
            "Testing with the list: [291792687, 511614119, 431911126, 644155944, 953494090, 96143091, 577804773, 124031685]\n",
            "The efficient solution gives the result 909150979664928100\n",
            "-------------------------------------------------\n",
            "-------------------------------------------------\n",
            "Testing with the list: [998818372, 626150773, 610601008, 527597133, 37066622, 930907480]\n",
            "The efficient solution gives the result 997638140244730384\n",
            "-------------------------------------------------\n"
          ]
        }
      ],
      "source": [
        "#%%writefile stressTestmax_pairwise_efficient.cpp\n",
        "import random\n",
        "\n",
        "def max_pairwise_efficient(numbers):\n",
        "    n = len(numbers)\n",
        "    biggest_1 = float('-inf')\n",
        "    biggest_2 = float('-inf')\n",
        "\n",
        "    for i in range(n):\n",
        "        new = numbers[i]\n",
        "        temp = biggest_1\n",
        "        if new > biggest_1:\n",
        "          biggest_2 = biggest_1\n",
        "          biggest_1 = new\n",
        "        if temp > biggest_2: biggest_2 = temp\n",
        "\n",
        "    return biggest_1 * biggest_2\n",
        "\n",
        "# 20 stress tests\n",
        "for _ in range(20):\n",
        "    n = random.randint(2, 12)  # Use a large n\n",
        "    numbers = [random.randint(1, 10**9) for _ in range(n)]  # Generate n random numbers between 1 and 10^9\n",
        "\n",
        "    print(\"-------------------------------------------------\")\n",
        "    print(f\"Testing with the list: {numbers}\")\n",
        "    print(f\"The efficient solution gives the result {max_pairwise_efficient(numbers)}\")\n",
        "    # Add any additional test or comparison here if needed\n",
        "    print(\"-------------------------------------------------\")"
      ]
    },
    {
      "cell_type": "markdown",
      "metadata": {
        "id": "IRVdP3iuPxcK"
      },
      "source": [
        "Count executed instructions in code and verify with inputs 1,2 and 3"
      ]
    },
    {
      "cell_type": "code",
      "execution_count": 107,
      "metadata": {
        "id": "RghJOg78PxcK",
        "colab": {
          "base_uri": "https://localhost:8080/"
        },
        "outputId": "24c8b744-c43c-4245-aaf3-d0457b360c07"
      },
      "outputs": [
        {
          "output_type": "stream",
          "name": "stdout",
          "text": [
            "Overwriting max_pairwise_efficient.py\n"
          ]
        }
      ],
      "source": [
        "%%writefile max_pairwise_efficient.py\n",
        "import random\n",
        "execints = 0\n",
        "\n",
        "def max_pairwise_efficient(numbers):\n",
        "    global execints\n",
        "    n = len(numbers)\n",
        "    biggest_1 = float('-inf')\n",
        "    biggest_2 = float('-inf')\n",
        "    execints += 3\n",
        "\n",
        "    for i in range(n):\n",
        "        new_number = numbers[i]\n",
        "        temp = biggest_1\n",
        "        execints += 2\n",
        "        if new_number > biggest_1:\n",
        "            biggest_2 = biggest_1\n",
        "            biggest_1 = new_number\n",
        "            execints += 2\n",
        "        if temp > biggest_2:\n",
        "            biggest_2 = temp\n",
        "            execints += 2\n",
        "        execints += 2\n",
        "\n",
        "    execints += 1\n",
        "    return biggest_1 * biggest_2\n",
        "\n",
        "if __name__ == '__main__':\n",
        "    n = int(input())\n",
        "    input_line = input()\n",
        "    numbers = list(map(int, input_line.split()))  # Divide la cadena en números y convierte cada uno a entero\n",
        "    max_pairwise_efficient(numbers)\n",
        "    execints += 1\n",
        "\n",
        "    print(\"El numero de instrucciones es:\", execints)"
      ]
    },
    {
      "cell_type": "code",
      "source": [
        "%%writefile run_all_test.sh\n",
        "for i in {1..3}\n",
        "do\n",
        "    echo \"Input #$i\"\n",
        "    python3 max_pairwise_efficient.py < input$i.txt\n",
        "done"
      ],
      "metadata": {
        "id": "A587Njbt1J-D",
        "colab": {
          "base_uri": "https://localhost:8080/"
        },
        "outputId": "7713143b-dda5-4b6c-8117-eb2cc27e5a83"
      },
      "execution_count": 108,
      "outputs": [
        {
          "output_type": "stream",
          "name": "stdout",
          "text": [
            "Overwriting run_all_test.sh\n"
          ]
        }
      ]
    },
    {
      "cell_type": "code",
      "source": [
        "!chmod u+x run_all_test.sh\n",
        "!./run_all_test.sh"
      ],
      "metadata": {
        "id": "K9yN_47Z1LCt",
        "colab": {
          "base_uri": "https://localhost:8080/"
        },
        "outputId": "d8377f26-5afb-46d1-9b6d-b0aeffae23ce"
      },
      "execution_count": 109,
      "outputs": [
        {
          "output_type": "stream",
          "name": "stdout",
          "text": [
            "Input #1\n",
            "El numero de instrucciones es: 65\n",
            "Input #2\n",
            "El numero de instrucciones es: 49\n",
            "Input #3\n",
            "El numero de instrucciones es: 37\n"
          ]
        }
      ]
    },
    {
      "cell_type": "markdown",
      "metadata": {
        "id": "R6qeUjPaPxcK"
      },
      "source": [
        "Calculate estimated time by instruction and number of instructions by second"
      ]
    },
    {
      "cell_type": "code",
      "execution_count": 110,
      "metadata": {
        "id": "iLdXYvn3PxcK",
        "colab": {
          "base_uri": "https://localhost:8080/"
        },
        "outputId": "fd599a27-d87e-4989-9328-7045b412b696"
      },
      "outputs": [
        {
          "output_type": "stream",
          "name": "stdout",
          "text": [
            "\n",
            "real\t0m0.162s\n",
            "user\t0m0.136s\n",
            "sys\t0m0.022s\n",
            "El numero de instrucciones es: 1200005\n",
            "7272757.575757575 tiempo por instrucción\n"
          ]
        }
      ],
      "source": [
        "!time python3 max_pairwise_efficient.py < input11.txt > pythonOutputSort11.txt\n",
        "!python3 max_pairwise_efficient.py < input11.txt\n",
        "num_inst_per_seg = 1200005/0.165\n",
        "print(f\"{num_inst_per_seg} tiempo por instrucción\")"
      ]
    },
    {
      "cell_type": "markdown",
      "source": [
        "### Estimate and verify the maximun n that can be solved in 1 second"
      ],
      "metadata": {
        "id": "uZGdjUwuaO4v"
      }
    },
    {
      "cell_type": "code",
      "source": [
        "import time\n",
        "import random\n",
        "n = 0 #numero de instrucciones\n",
        "\n",
        "def instruction(numbers):\n",
        "    m = len(numbers)\n",
        "    biggest_1 = float('-inf')\n",
        "    biggest_2 = float('-inf')\n",
        "    global n\n",
        "    n += 3\n",
        "\n",
        "    for i in range(m):\n",
        "        new = numbers[i]\n",
        "        temp = biggest_1\n",
        "        n += 2\n",
        "        if new > biggest_1:\n",
        "            biggest_2 = biggest_1\n",
        "            biggest_1 = new\n",
        "            n += 2\n",
        "        if temp > biggest_2:\n",
        "            biggest_2 = temp\n",
        "            n += 1\n",
        "        n += 2\n",
        "    return n\n",
        "# Ejecutar la función y medir el tiempo de ejecución\n",
        "start_time = time.time()\n",
        "numbers = [random.randint(1, 100) for _ in range(10)]\n",
        "instruction = instruction(numbers) # Suponiendo que 'numbers' es una lista válida\n",
        "end_time = time.time()\n",
        "\n",
        "# Calcular el número de instrucciones por segundo\n",
        "elapsed_time = end_time - start_time\n",
        "instructions_per_second = instruction / elapsed_time\n",
        "#print(start_time)\n",
        "#print(end_time)\n",
        "print(f\"Número de instrucciones por segundo: {instructions_per_second}\")"
      ],
      "metadata": {
        "id": "FjqFevOaaOVz",
        "colab": {
          "base_uri": "https://localhost:8080/"
        },
        "outputId": "ebb990f2-87c6-49fb-9b66-5bc165d0ceaa"
      },
      "execution_count": 111,
      "outputs": [
        {
          "output_type": "stream",
          "name": "stdout",
          "text": [
            "Número de instrucciones por segundo: 350743.1916376307\n"
          ]
        }
      ]
    },
    {
      "cell_type": "markdown",
      "source": [
        "## Perform 100 randomized automated tests in C++ and Python with a porgram  compares the answers,for the same 100 random input instances, of the super efficient solution $(T(n) < 10 n = O(n))$ against the sorting solution  $(T(n)  = O(n \\lg{n}))$,  if the answers are not the same stops and displays \"Error\" listing  the input and the two answers; if the 100 tests are completed without stoping displays \"Pass\"."
      ],
      "metadata": {
        "id": "4hHRQMXzW6oR"
      }
    },
    {
      "cell_type": "markdown",
      "source": [
        "#C++"
      ],
      "metadata": {
        "id": "ZPyvsE5h1Pln"
      }
    },
    {
      "cell_type": "code",
      "source": [
        "%%writefile stressTest.cpp\n",
        "\n",
        "#include <iostream>\n",
        "#include <vector>\n",
        "#include <algorithm>\n",
        "#include <random>\n",
        "\n",
        "long long max_pairwise_efficient(const std::vector<int>& numbers) { //stressTestC_efficien\n",
        "    int n = numbers.size(); //1\n",
        "\n",
        "    long long biggest_1 = std::numeric_limits<long long>::min(); //1\n",
        "    long long biggest_2 = std::numeric_limits<long long>::min(); //1\n",
        "\n",
        "    for (int i = 0; i < n; ++i) { //2+2n\n",
        "        int new_number = numbers[i];\n",
        "        if (new_number > biggest_1) {\n",
        "            biggest_2 = biggest_1;\n",
        "            biggest_1 = new_number;\n",
        "        } else if (new_number > biggest_2) { //2+2n\n",
        "            biggest_2 = new_number;\n",
        "        }\n",
        "    }\n",
        "\n",
        "    return biggest_1 * biggest_2;//1\n",
        "}\n",
        "\n",
        "long long max_pairwise_product_sort(std::vector<int>& numbers) { //stressTestC_sort\n",
        "    std::sort(numbers.rbegin(), numbers.rend());\n",
        "    return static_cast<long long>(numbers[0]) * numbers[1];\n",
        "}\n",
        "\n",
        "int main() {\n",
        "    std::random_device rd;\n",
        "    std::mt19937 gen(rd());\n",
        "\n",
        "    for (int i = 0; i < 100; ++i) {\n",
        "        int n = std::uniform_int_distribution<int>(2, 12)(gen);  // Use a large n\n",
        "        std::vector<int> numbers(n);\n",
        "        for (int j = 0; j < n; ++j) {\n",
        "            numbers[j] = std::uniform_int_distribution<int>(1, 1e9)(gen);  // Generate n random numbers between 1 and 10^9\n",
        "        }\n",
        "\n",
        "        std::cout << \"-------------------------------------------------\\n\";\n",
        "        std::cout << \"Testing with the list: \";\n",
        "        for (int num : numbers) {\n",
        "            std::cout << num << \" \";\n",
        "        }\n",
        "        std::cout << \"\\n\";\n",
        "\n",
        "        long long efficient_result = max_pairwise_efficient(numbers);\n",
        "        long long comparison_result = max_pairwise_product_sort(numbers);  // Replace with your comparison function result\n",
        "\n",
        "        std::cout << \"The efficient solution gives the result \" << efficient_result << \"\\n\";\n",
        "        std::cout << \"The comparison solution gives the result \" << comparison_result << \"\\n\";\n",
        "\n",
        "        if (efficient_result == comparison_result) {\n",
        "            std::cout << \"The solution is correct OK\\n\";\n",
        "        } else {\n",
        "            std::cout << \"ERROR\\n\";\n",
        "        }\n",
        "\n",
        "        std::cout << \"-------------------------------------------------\\n\";\n",
        "    }\n",
        "\n",
        "    return 0;\n",
        "}"
      ],
      "metadata": {
        "id": "xc0Qymkf1Ot5",
        "colab": {
          "base_uri": "https://localhost:8080/"
        },
        "outputId": "f492f2da-97b0-428e-a74c-582be080f468"
      },
      "execution_count": 112,
      "outputs": [
        {
          "output_type": "stream",
          "name": "stdout",
          "text": [
            "Writing stressTest.cpp\n"
          ]
        }
      ]
    },
    {
      "cell_type": "code",
      "source": [
        "!g++ stressTest.cpp -o stressTest -std=c++11\n",
        "!./stressTest"
      ],
      "metadata": {
        "id": "YCR6-PWP1SJw",
        "colab": {
          "base_uri": "https://localhost:8080/"
        },
        "outputId": "3a4721ea-6de6-4796-d42d-fcc79ca2b7fe"
      },
      "execution_count": 113,
      "outputs": [
        {
          "output_type": "stream",
          "name": "stdout",
          "text": [
            "-------------------------------------------------\n",
            "Testing with the list: 499953356 632662014 879941067 62624838 471183613 485269726 \n",
            "The efficient solution gives the result 556705287649528938\n",
            "The comparison solution gives the result 556705287649528938\n",
            "The solution is correct OK\n",
            "-------------------------------------------------\n",
            "-------------------------------------------------\n",
            "Testing with the list: 910139389 506693076 291780437 756986723 513138181 998162842 934378553 445625640 27548111 \n",
            "The efficient solution gives the result 932661951966327626\n",
            "The comparison solution gives the result 932661951966327626\n",
            "The solution is correct OK\n",
            "-------------------------------------------------\n",
            "-------------------------------------------------\n",
            "Testing with the list: 536522005 728689417 648430703 383838482 574403048 323891600 449285247 171621552 531433227 137169440 \n",
            "The efficient solution gives the result 472504590933970151\n",
            "The comparison solution gives the result 472504590933970151\n",
            "The solution is correct OK\n",
            "-------------------------------------------------\n",
            "-------------------------------------------------\n",
            "Testing with the list: 111024261 503532198 950610759 489181632 27990992 262276470 \n",
            "The efficient solution gives the result 478663124921718282\n",
            "The comparison solution gives the result 478663124921718282\n",
            "The solution is correct OK\n",
            "-------------------------------------------------\n",
            "-------------------------------------------------\n",
            "Testing with the list: 871981556 469237885 \n",
            "The efficient solution gives the result 409166781096449060\n",
            "The comparison solution gives the result 409166781096449060\n",
            "The solution is correct OK\n",
            "-------------------------------------------------\n",
            "-------------------------------------------------\n",
            "Testing with the list: 954370175 344489179 374285008 790306212 392125987 544953761 \n",
            "The efficient solution gives the result 754244677850027100\n",
            "The comparison solution gives the result 754244677850027100\n",
            "The solution is correct OK\n",
            "-------------------------------------------------\n",
            "-------------------------------------------------\n",
            "Testing with the list: 918410173 263042142 581472433 90347502 318345238 539257797 761295342 380913338 \n",
            "The efficient solution gives the result 699181386750314166\n",
            "The comparison solution gives the result 699181386750314166\n",
            "The solution is correct OK\n",
            "-------------------------------------------------\n",
            "-------------------------------------------------\n",
            "Testing with the list: 169705769 418933565 916492544 \n",
            "The efficient solution gives the result 383949488753839360\n",
            "The comparison solution gives the result 383949488753839360\n",
            "The solution is correct OK\n",
            "-------------------------------------------------\n",
            "-------------------------------------------------\n",
            "Testing with the list: 903281200 495108011 685485367 908209073 175982373 \n",
            "The efficient solution gives the result 820368181310327600\n",
            "The comparison solution gives the result 820368181310327600\n",
            "The solution is correct OK\n",
            "-------------------------------------------------\n",
            "-------------------------------------------------\n",
            "Testing with the list: 899516154 867244211 309050070 807817042 \n",
            "The efficient solution gives the result 780100177257484494\n",
            "The comparison solution gives the result 780100177257484494\n",
            "The solution is correct OK\n",
            "-------------------------------------------------\n",
            "-------------------------------------------------\n",
            "Testing with the list: 218859745 823581113 175640859 267075106 389437799 \n",
            "The efficient solution gives the result 320733615944690287\n",
            "The comparison solution gives the result 320733615944690287\n",
            "The solution is correct OK\n",
            "-------------------------------------------------\n",
            "-------------------------------------------------\n",
            "Testing with the list: 932043462 279757690 495135908 126219659 331268711 22643647 498919047 164090989 886223189 893360925 \n",
            "The efficient solution gives the result 832651209352522350\n",
            "The comparison solution gives the result 832651209352522350\n",
            "The solution is correct OK\n",
            "-------------------------------------------------\n",
            "-------------------------------------------------\n",
            "Testing with the list: 829604102 635209693 367330548 491587551 848707580 \n",
            "The efficient solution gives the result 704091289766493160\n",
            "The comparison solution gives the result 704091289766493160\n",
            "The solution is correct OK\n",
            "-------------------------------------------------\n",
            "-------------------------------------------------\n",
            "Testing with the list: 453624717 475510104 106780008 421545069 953014077 432728297 334994804 275833736 \n",
            "The efficient solution gives the result 453167822867734008\n",
            "The comparison solution gives the result 453167822867734008\n",
            "The solution is correct OK\n",
            "-------------------------------------------------\n",
            "-------------------------------------------------\n",
            "Testing with the list: 368272528 35148116 767788144 144349619 173264537 365840863 328843456 724836205 \n",
            "The efficient solution gives the result 556520644540953520\n",
            "The comparison solution gives the result 556520644540953520\n",
            "The solution is correct OK\n",
            "-------------------------------------------------\n",
            "-------------------------------------------------\n",
            "Testing with the list: 800683803 649177541 866539984 893875856 282606286 553084067 91116080 508908790 370562844 809794162 28772385 \n",
            "The efficient solution gives the result 774579169956226304\n",
            "The comparison solution gives the result 774579169956226304\n",
            "The solution is correct OK\n",
            "-------------------------------------------------\n",
            "-------------------------------------------------\n",
            "Testing with the list: 490791877 722125980 194915598 \n",
            "The efficient solution gives the result 354413565154664460\n",
            "The comparison solution gives the result 354413565154664460\n",
            "The solution is correct OK\n",
            "-------------------------------------------------\n",
            "-------------------------------------------------\n",
            "Testing with the list: 731630900 267334363 284821274 \n",
            "The efficient solution gives the result 208384045035766600\n",
            "The comparison solution gives the result 208384045035766600\n",
            "The solution is correct OK\n",
            "-------------------------------------------------\n",
            "-------------------------------------------------\n",
            "Testing with the list: 657835144 949117940 949040311 259533069 993036970 632536522 170672922 716261263 248818811 \n",
            "The efficient solution gives the result 942509203310241800\n",
            "The comparison solution gives the result 942509203310241800\n",
            "The solution is correct OK\n",
            "-------------------------------------------------\n",
            "-------------------------------------------------\n",
            "Testing with the list: 192630168 760619369 304515911 720399502 729233366 \n",
            "The efficient solution gives the result 554669022700666054\n",
            "The comparison solution gives the result 554669022700666054\n",
            "The solution is correct OK\n",
            "-------------------------------------------------\n",
            "-------------------------------------------------\n",
            "Testing with the list: 57851387 404698265 468503798 204636449 577203802 361649144 102810158 221216521 \n",
            "The efficient solution gives the result 270422173457039996\n",
            "The comparison solution gives the result 270422173457039996\n",
            "The solution is correct OK\n",
            "-------------------------------------------------\n",
            "-------------------------------------------------\n",
            "Testing with the list: 245539022 985065631 73084082 719786096 394222073 336199667 12918900 437070056 380123246 840465395 925963473 \n",
            "The efficient solution gives the result 912134792813696463\n",
            "The comparison solution gives the result 912134792813696463\n",
            "The solution is correct OK\n",
            "-------------------------------------------------\n",
            "-------------------------------------------------\n",
            "Testing with the list: 460165244 713284207 308454605 601983834 496180461 151603467 156949926 747298124 825336066 983268356 449624980 \n",
            "The efficient solution gives the result 811526836763327496\n",
            "The comparison solution gives the result 811526836763327496\n",
            "The solution is correct OK\n",
            "-------------------------------------------------\n",
            "-------------------------------------------------\n",
            "Testing with the list: 989923282 418294448 825725432 837059583 161452105 902925233 74258184 35107243 \n",
            "The efficient solution gives the result 893826710051974706\n",
            "The comparison solution gives the result 893826710051974706\n",
            "The solution is correct OK\n",
            "-------------------------------------------------\n",
            "-------------------------------------------------\n",
            "Testing with the list: 241702162 687409763 513759593 373780294 226471400 \n",
            "The efficient solution gives the result 353163360063106459\n",
            "The comparison solution gives the result 353163360063106459\n",
            "The solution is correct OK\n",
            "-------------------------------------------------\n",
            "-------------------------------------------------\n",
            "Testing with the list: 71112509 228999324 \n",
            "The efficient solution gives the result 16284716488943916\n",
            "The comparison solution gives the result 16284716488943916\n",
            "The solution is correct OK\n",
            "-------------------------------------------------\n",
            "-------------------------------------------------\n",
            "Testing with the list: 917188007 540777724 172770051 368131432 405623706 901714931 \n",
            "The efficient solution gives the result 827042120446032517\n",
            "The comparison solution gives the result 827042120446032517\n",
            "The solution is correct OK\n",
            "-------------------------------------------------\n",
            "-------------------------------------------------\n",
            "Testing with the list: 779300372 339157320 346846067 662832957 62965139 653040391 742942372 889373722 562527095 651623765 598598825 734584418 \n",
            "The efficient solution gives the result 693089272401624584\n",
            "The comparison solution gives the result 693089272401624584\n",
            "The solution is correct OK\n",
            "-------------------------------------------------\n",
            "-------------------------------------------------\n",
            "Testing with the list: 527516449 90965914 200669721 140871658 956371400 302298581 756010827 892266869 \n",
            "The efficient solution gives the result 853338514679146600\n",
            "The comparison solution gives the result 853338514679146600\n",
            "The solution is correct OK\n",
            "-------------------------------------------------\n",
            "-------------------------------------------------\n",
            "Testing with the list: 846060044 526278932 509131990 467857508 988369489 846145769 55657386 743145095 725431278 \n",
            "The efficient solution gives the result 836304661326042041\n",
            "The comparison solution gives the result 836304661326042041\n",
            "The solution is correct OK\n",
            "-------------------------------------------------\n",
            "-------------------------------------------------\n",
            "Testing with the list: 483680432 739133194 69334626 563063899 33424920 98765027 699710994 3399322 510954779 98228651 818851129 \n",
            "The efficient solution gives the result 605240050388276026\n",
            "The comparison solution gives the result 605240050388276026\n",
            "The solution is correct OK\n",
            "-------------------------------------------------\n",
            "-------------------------------------------------\n",
            "Testing with the list: 353813395 436976531 862073308 134713126 389824714 606310202 983842327 103553188 93039888 \n",
            "The efficient solution gives the result 848144209387307716\n",
            "The comparison solution gives the result 848144209387307716\n",
            "The solution is correct OK\n",
            "-------------------------------------------------\n",
            "-------------------------------------------------\n",
            "Testing with the list: 275105072 81632164 24570308 753067658 589444631 \n",
            "The efficient solution gives the result 443891687787844198\n",
            "The comparison solution gives the result 443891687787844198\n",
            "The solution is correct OK\n",
            "-------------------------------------------------\n",
            "-------------------------------------------------\n",
            "Testing with the list: 829914415 757355408 327538363 491466552 33137168 946692658 \n",
            "The efficient solution gives the result 785673883448865070\n",
            "The comparison solution gives the result 785673883448865070\n",
            "The solution is correct OK\n",
            "-------------------------------------------------\n",
            "-------------------------------------------------\n",
            "Testing with the list: 632314897 181996303 827042511 738263824 715580396 \n",
            "The efficient solution gives the result 610575566781422064\n",
            "The comparison solution gives the result 610575566781422064\n",
            "The solution is correct OK\n",
            "-------------------------------------------------\n",
            "-------------------------------------------------\n",
            "Testing with the list: 803543296 161087683 297121353 228822202 613959698 468076852 848633156 328567632 \n",
            "The efficient solution gives the result 681913483267122176\n",
            "The comparison solution gives the result 681913483267122176\n",
            "The solution is correct OK\n",
            "-------------------------------------------------\n",
            "-------------------------------------------------\n",
            "Testing with the list: 116484394 809833389 171108413 864987648 753993925 331291253 104214174 \n",
            "The efficient solution gives the result 700495878422979072\n",
            "The comparison solution gives the result 700495878422979072\n",
            "The solution is correct OK\n",
            "-------------------------------------------------\n",
            "-------------------------------------------------\n",
            "Testing with the list: 155534774 706802178 538416830 \n",
            "The efficient solution gives the result 380554188115855740\n",
            "The comparison solution gives the result 380554188115855740\n",
            "The solution is correct OK\n",
            "-------------------------------------------------\n",
            "-------------------------------------------------\n",
            "Testing with the list: 928266278 798411750 762520691 557722563 892289706 137216399 44661997 917112577 48791343 467591835 879915182 \n",
            "The efficient solution gives the result 851324678358778406\n",
            "The comparison solution gives the result 851324678358778406\n",
            "The solution is correct OK\n",
            "-------------------------------------------------\n",
            "-------------------------------------------------\n",
            "Testing with the list: 478864367 706876197 532535513 35744268 807224658 857682514 320008033 9240236 294807747 \n",
            "The efficient solution gives the result 692342474036230212\n",
            "The comparison solution gives the result 692342474036230212\n",
            "The solution is correct OK\n",
            "-------------------------------------------------\n",
            "-------------------------------------------------\n",
            "Testing with the list: 294429158 723835875 849373460 364383261 806640377 677434557 945561931 \n",
            "The efficient solution gives the result 803135208977751260\n",
            "The comparison solution gives the result 803135208977751260\n",
            "The solution is correct OK\n",
            "-------------------------------------------------\n",
            "-------------------------------------------------\n",
            "Testing with the list: 909536656 901331142 \n",
            "The efficient solution gives the result 819793712843341152\n",
            "The comparison solution gives the result 819793712843341152\n",
            "The solution is correct OK\n",
            "-------------------------------------------------\n",
            "-------------------------------------------------\n",
            "Testing with the list: 937423609 598214362 842018441 530303112 55859272 832065988 \n",
            "The efficient solution gives the result 789327965806773569\n",
            "The comparison solution gives the result 789327965806773569\n",
            "The solution is correct OK\n",
            "-------------------------------------------------\n",
            "-------------------------------------------------\n",
            "Testing with the list: 120700551 312721728 717078924 103534010 491468260 492685013 724121808 712637065 \n",
            "The efficient solution gives the result 519252486925574592\n",
            "The comparison solution gives the result 519252486925574592\n",
            "The solution is correct OK\n",
            "-------------------------------------------------\n",
            "-------------------------------------------------\n",
            "Testing with the list: 849619804 143787415 485679474 \n",
            "The efficient solution gives the result 412642899506703096\n",
            "The comparison solution gives the result 412642899506703096\n",
            "The solution is correct OK\n",
            "-------------------------------------------------\n",
            "-------------------------------------------------\n",
            "Testing with the list: 391903071 739018048 941218842 794393729 717443992 \n",
            "The efficient solution gives the result 747698345701441818\n",
            "The comparison solution gives the result 747698345701441818\n",
            "The solution is correct OK\n",
            "-------------------------------------------------\n",
            "-------------------------------------------------\n",
            "Testing with the list: 808307707 607313828 804477813 \n",
            "The efficient solution gives the result 650265616358404791\n",
            "The comparison solution gives the result 650265616358404791\n",
            "The solution is correct OK\n",
            "-------------------------------------------------\n",
            "-------------------------------------------------\n",
            "Testing with the list: 507169823 41177847 921440545 489342540 952931711 821843441 726492726 650099219 135794505 584732404 750940915 957738170 \n",
            "The efficient solution gives the result 912659073028108870\n",
            "The comparison solution gives the result 912659073028108870\n",
            "The solution is correct OK\n",
            "-------------------------------------------------\n",
            "-------------------------------------------------\n",
            "Testing with the list: 171591909 326597215 206129194 98053744 678246839 375846812 308037453 709865504 \n",
            "The efficient solution gives the result 481464034203141856\n",
            "The comparison solution gives the result 481464034203141856\n",
            "The solution is correct OK\n",
            "-------------------------------------------------\n",
            "-------------------------------------------------\n",
            "Testing with the list: 339754335 724760329 787986843 116832548 668415236 156753640 377479867 \n",
            "The efficient solution gives the result 571101603580351347\n",
            "The comparison solution gives the result 571101603580351347\n",
            "The solution is correct OK\n",
            "-------------------------------------------------\n",
            "-------------------------------------------------\n",
            "Testing with the list: 442879171 857004902 782454362 544473268 \n",
            "The efficient solution gives the result 670567223825282524\n",
            "The comparison solution gives the result 670567223825282524\n",
            "The solution is correct OK\n",
            "-------------------------------------------------\n",
            "-------------------------------------------------\n",
            "Testing with the list: 230952871 15559316 130865677 138502416 170005682 \n",
            "The efficient solution gives the result 39263300344213022\n",
            "The comparison solution gives the result 39263300344213022\n",
            "The solution is correct OK\n",
            "-------------------------------------------------\n",
            "-------------------------------------------------\n",
            "Testing with the list: 508529286 930894102 438241630 852276096 2924847 270863605 887442992 798033356 437652506 505380574 685930959 \n",
            "The efficient solution gives the result 826115447114033184\n",
            "The comparison solution gives the result 826115447114033184\n",
            "The solution is correct OK\n",
            "-------------------------------------------------\n",
            "-------------------------------------------------\n",
            "Testing with the list: 296134146 468089415 163613275 297258131 388914010 600005615 \n",
            "The efficient solution gives the result 280856277322065225\n",
            "The comparison solution gives the result 280856277322065225\n",
            "The solution is correct OK\n",
            "-------------------------------------------------\n",
            "-------------------------------------------------\n",
            "Testing with the list: 639094542 240724529 856964384 713224075 606834641 123157418 621767076 575012634 659556154 293921591 \n",
            "The efficient solution gives the result 611207630086344800\n",
            "The comparison solution gives the result 611207630086344800\n",
            "The solution is correct OK\n",
            "-------------------------------------------------\n",
            "-------------------------------------------------\n",
            "Testing with the list: 104964406 815943546 914349151 243391801 737131426 542590034 205766849 451865035 840419514 \n",
            "The efficient solution gives the result 768436869109732614\n",
            "The comparison solution gives the result 768436869109732614\n",
            "The solution is correct OK\n",
            "-------------------------------------------------\n",
            "-------------------------------------------------\n",
            "Testing with the list: 761953110 503676893 878565354 776510729 412186980 749021125 \n",
            "The efficient solution gives the result 682215423508683066\n",
            "The comparison solution gives the result 682215423508683066\n",
            "The solution is correct OK\n",
            "-------------------------------------------------\n",
            "-------------------------------------------------\n",
            "Testing with the list: 584488551 516533852 865815073 \n",
            "The efficient solution gives the result 506058997451729223\n",
            "The comparison solution gives the result 506058997451729223\n",
            "The solution is correct OK\n",
            "-------------------------------------------------\n",
            "-------------------------------------------------\n",
            "Testing with the list: 535124041 399464746 779881197 544491825 392154279 947749325 98605431 31192842 \n",
            "The efficient solution gives the result 739131878036942025\n",
            "The comparison solution gives the result 739131878036942025\n",
            "The solution is correct OK\n",
            "-------------------------------------------------\n",
            "-------------------------------------------------\n",
            "Testing with the list: 30067815 749758055 587347738 833860042 501051767 \n",
            "The efficient solution gives the result 625193283232138310\n",
            "The comparison solution gives the result 625193283232138310\n",
            "The solution is correct OK\n",
            "-------------------------------------------------\n",
            "-------------------------------------------------\n",
            "Testing with the list: 25454402 972692716 297158261 398117534 148397179 \n",
            "The efficient solution gives the result 387246025433682344\n",
            "The comparison solution gives the result 387246025433682344\n",
            "The solution is correct OK\n",
            "-------------------------------------------------\n",
            "-------------------------------------------------\n",
            "Testing with the list: 525600450 913230713 \n",
            "The efficient solution gives the result 479994473706620850\n",
            "The comparison solution gives the result 479994473706620850\n",
            "The solution is correct OK\n",
            "-------------------------------------------------\n",
            "-------------------------------------------------\n",
            "Testing with the list: 348156388 201735081 143133676 885104819 702735664 503496053 76049293 815443365 622631804 432124564 159801874 \n",
            "The efficient solution gives the result 721752851983075935\n",
            "The comparison solution gives the result 721752851983075935\n",
            "The solution is correct OK\n",
            "-------------------------------------------------\n",
            "-------------------------------------------------\n",
            "Testing with the list: 66261473 321255989 958284510 77133702 836286643 503798305 887481451 305509835 372692434 919297953 200619573 97505234 \n",
            "The efficient solution gives the result 880948988434608030\n",
            "The comparison solution gives the result 880948988434608030\n",
            "The solution is correct OK\n",
            "-------------------------------------------------\n",
            "-------------------------------------------------\n",
            "Testing with the list: 159576532 344477000 27948935 446197493 471729603 1152517 535417180 \n",
            "The efficient solution gives the result 252572133760779540\n",
            "The comparison solution gives the result 252572133760779540\n",
            "The solution is correct OK\n",
            "-------------------------------------------------\n",
            "-------------------------------------------------\n",
            "Testing with the list: 34036056 67805979 174844912 501225293 348893536 563899646 446033490 916912895 \n",
            "The efficient solution gives the result 517046856903335170\n",
            "The comparison solution gives the result 517046856903335170\n",
            "The solution is correct OK\n",
            "-------------------------------------------------\n",
            "-------------------------------------------------\n",
            "Testing with the list: 399244164 921211954 391407253 434553859 672291896 259553587 57493270 74561524 225094285 394939637 677418555 502349502 \n",
            "The efficient solution gives the result 624046070727406470\n",
            "The comparison solution gives the result 624046070727406470\n",
            "The solution is correct OK\n",
            "-------------------------------------------------\n",
            "-------------------------------------------------\n",
            "Testing with the list: 308042186 802221127 155154431 196551125 \n",
            "The efficient solution gives the result 247117949616463622\n",
            "The comparison solution gives the result 247117949616463622\n",
            "The solution is correct OK\n",
            "-------------------------------------------------\n",
            "-------------------------------------------------\n",
            "Testing with the list: 528531152 254270369 980586657 370038167 765625566 \n",
            "The efficient solution gives the result 750762214277672862\n",
            "The comparison solution gives the result 750762214277672862\n",
            "The solution is correct OK\n",
            "-------------------------------------------------\n",
            "-------------------------------------------------\n",
            "Testing with the list: 638750408 868782568 141835222 272179544 \n",
            "The efficient solution gives the result 554935219773287744\n",
            "The comparison solution gives the result 554935219773287744\n",
            "The solution is correct OK\n",
            "-------------------------------------------------\n",
            "-------------------------------------------------\n",
            "Testing with the list: 631622264 668263069 \n",
            "The efficient solution gives the result 422089832589368216\n",
            "The comparison solution gives the result 422089832589368216\n",
            "The solution is correct OK\n",
            "-------------------------------------------------\n",
            "-------------------------------------------------\n",
            "Testing with the list: 879253703 146491200 925738889 78969318 164400677 544021134 862668245 305804279 687569318 \n",
            "The efficient solution gives the result 813959346164355967\n",
            "The comparison solution gives the result 813959346164355967\n",
            "The solution is correct OK\n",
            "-------------------------------------------------\n",
            "-------------------------------------------------\n",
            "Testing with the list: 526456359 313270907 590928936 568146490 395006645 716859452 997997701 823291251 843686659 417835047 \n",
            "The efficient solution gives the result 841997346046370959\n",
            "The comparison solution gives the result 841997346046370959\n",
            "The solution is correct OK\n",
            "-------------------------------------------------\n",
            "-------------------------------------------------\n",
            "Testing with the list: 669488160 454839083 115681978 731699158 87217742 616961935 327392241 588524695 283833511 252202340 780049128 \n",
            "The efficient solution gives the result 570761290156234224\n",
            "The comparison solution gives the result 570761290156234224\n",
            "The solution is correct OK\n",
            "-------------------------------------------------\n",
            "-------------------------------------------------\n",
            "Testing with the list: 23402152 662081899 94006825 253955809 \n",
            "The efficient solution gives the result 168139544284801291\n",
            "The comparison solution gives the result 168139544284801291\n",
            "The solution is correct OK\n",
            "-------------------------------------------------\n",
            "-------------------------------------------------\n",
            "Testing with the list: 525582553 546473619 555327295 625820809 918042609 852743217 479677575 783069074 578864621 378948189 715231066 \n",
            "The efficient solution gives the result 782854607741733153\n",
            "The comparison solution gives the result 782854607741733153\n",
            "The solution is correct OK\n",
            "-------------------------------------------------\n",
            "-------------------------------------------------\n",
            "Testing with the list: 660130863 331132920 135747037 \n",
            "The efficient solution gives the result 218591060247309960\n",
            "The comparison solution gives the result 218591060247309960\n",
            "The solution is correct OK\n",
            "-------------------------------------------------\n",
            "-------------------------------------------------\n",
            "Testing with the list: 864128884 331052554 598763759 113267323 633764111 622700054 827785344 641907652 902059887 293807703 125819687 249408225 \n",
            "The efficient solution gives the result 779496003454476108\n",
            "The comparison solution gives the result 779496003454476108\n",
            "The solution is correct OK\n",
            "-------------------------------------------------\n",
            "-------------------------------------------------\n",
            "Testing with the list: 33426453 483708346 887008040 \n",
            "The efficient solution gives the result 429053191917101840\n",
            "The comparison solution gives the result 429053191917101840\n",
            "The solution is correct OK\n",
            "-------------------------------------------------\n",
            "-------------------------------------------------\n",
            "Testing with the list: 268332358 28080688 898118291 161345938 547407951 672298885 235557849 144923895 169198996 362230474 701506580 \n",
            "The efficient solution gives the result 630035890754854780\n",
            "The comparison solution gives the result 630035890754854780\n",
            "The solution is correct OK\n",
            "-------------------------------------------------\n",
            "-------------------------------------------------\n",
            "Testing with the list: 202506995 617415617 323326294 816579123 161707986 841022282 399362985 385142910 545988337 750761261 306140881 \n",
            "The efficient solution gives the result 686761237459018686\n",
            "The comparison solution gives the result 686761237459018686\n",
            "The solution is correct OK\n",
            "-------------------------------------------------\n",
            "-------------------------------------------------\n",
            "Testing with the list: 532177970 224401121 343287130 226010096 181466494 542835985 54990199 155284701 32857875 760376158 66829423 \n",
            "The efficient solution gives the result 412759540698445630\n",
            "The comparison solution gives the result 412759540698445630\n",
            "The solution is correct OK\n",
            "-------------------------------------------------\n",
            "-------------------------------------------------\n",
            "Testing with the list: 896078841 640186357 845869810 557136674 937344608 94225257 864542737 953760361 \n",
            "The efficient solution gives the result 894002131707483488\n",
            "The comparison solution gives the result 894002131707483488\n",
            "The solution is correct OK\n",
            "-------------------------------------------------\n",
            "-------------------------------------------------\n",
            "Testing with the list: 440277211 43293737 154784050 91368670 245232827 91365382 922478734 678074596 612213348 \n",
            "The efficient solution gives the result 625509394875641464\n",
            "The comparison solution gives the result 625509394875641464\n",
            "The solution is correct OK\n",
            "-------------------------------------------------\n",
            "-------------------------------------------------\n",
            "Testing with the list: 392555237 191511900 423763281 651082197 613749785 80959631 229239985 \n",
            "The efficient solution gives the result 399601558426077645\n",
            "The comparison solution gives the result 399601558426077645\n",
            "The solution is correct OK\n",
            "-------------------------------------------------\n",
            "-------------------------------------------------\n",
            "Testing with the list: 639836091 98243859 411334192 466897325 \n",
            "The efficient solution gives the result 298737759326356575\n",
            "The comparison solution gives the result 298737759326356575\n",
            "The solution is correct OK\n",
            "-------------------------------------------------\n",
            "-------------------------------------------------\n",
            "Testing with the list: 960723798 322505591 642392876 788682088 623818980 837356340 \n",
            "The efficient solution gives the result 804468163244179320\n",
            "The comparison solution gives the result 804468163244179320\n",
            "The solution is correct OK\n",
            "-------------------------------------------------\n",
            "-------------------------------------------------\n",
            "Testing with the list: 821269540 575335569 433313113 26963619 435021230 141513997 214281406 475099220 \n",
            "The efficient solution gives the result 472505578098268260\n",
            "The comparison solution gives the result 472505578098268260\n",
            "The solution is correct OK\n",
            "-------------------------------------------------\n",
            "-------------------------------------------------\n",
            "Testing with the list: 696135268 700737070 67063821 505914490 70625876 433041245 429186549 885201264 314415522 342457224 120406233 \n",
            "The efficient solution gives the result 620293340095656480\n",
            "The comparison solution gives the result 620293340095656480\n",
            "The solution is correct OK\n",
            "-------------------------------------------------\n",
            "-------------------------------------------------\n",
            "Testing with the list: 937957586 579824133 3425075 722848496 396861909 141308100 86677886 \n",
            "The efficient solution gives the result 678001230351890656\n",
            "The comparison solution gives the result 678001230351890656\n",
            "The solution is correct OK\n",
            "-------------------------------------------------\n",
            "-------------------------------------------------\n",
            "Testing with the list: 616581038 203282619 467346696 \n",
            "The efficient solution gives the result 288157110925550448\n",
            "The comparison solution gives the result 288157110925550448\n",
            "The solution is correct OK\n",
            "-------------------------------------------------\n",
            "-------------------------------------------------\n",
            "Testing with the list: 280054963 429225639 583196058 294717706 348966757 508778759 238123083 378130785 \n",
            "The efficient solution gives the result 296717766642932022\n",
            "The comparison solution gives the result 296717766642932022\n",
            "The solution is correct OK\n",
            "-------------------------------------------------\n",
            "-------------------------------------------------\n",
            "Testing with the list: 668569379 84908612 993652356 27025076 37706730 530781912 523630991 \n",
            "The efficient solution gives the result 664325538592806924\n",
            "The comparison solution gives the result 664325538592806924\n",
            "The solution is correct OK\n",
            "-------------------------------------------------\n",
            "-------------------------------------------------\n",
            "Testing with the list: 782282366 306175425 878920463 897974571 439299878 585898511 \n",
            "The efficient solution gives the result 789248225705546373\n",
            "The comparison solution gives the result 789248225705546373\n",
            "The solution is correct OK\n",
            "-------------------------------------------------\n",
            "-------------------------------------------------\n",
            "Testing with the list: 15582967 101270640 304156603 135909700 910222613 410191203 50074516 111992930 167198685 967147719 836844373 \n",
            "The efficient solution gives the result 880319723945169747\n",
            "The comparison solution gives the result 880319723945169747\n",
            "The solution is correct OK\n",
            "-------------------------------------------------\n",
            "-------------------------------------------------\n",
            "Testing with the list: 365953306 957327884 \n",
            "The efficient solution gives the result 350337304075784504\n",
            "The comparison solution gives the result 350337304075784504\n",
            "The solution is correct OK\n",
            "-------------------------------------------------\n",
            "-------------------------------------------------\n",
            "Testing with the list: 424948227 507212741 855288486 \n",
            "The efficient solution gives the result 433813217329800126\n",
            "The comparison solution gives the result 433813217329800126\n",
            "The solution is correct OK\n",
            "-------------------------------------------------\n",
            "-------------------------------------------------\n",
            "Testing with the list: 302066973 392030405 157584984 601699480 \n",
            "The efficient solution gives the result 235884490832689400\n",
            "The comparison solution gives the result 235884490832689400\n",
            "The solution is correct OK\n",
            "-------------------------------------------------\n",
            "-------------------------------------------------\n",
            "Testing with the list: 231855329 387483024 953134655 12298173 678098587 366746174 460351771 \n",
            "The efficient solution gives the result 646319262776232485\n",
            "The comparison solution gives the result 646319262776232485\n",
            "The solution is correct OK\n",
            "-------------------------------------------------\n",
            "-------------------------------------------------\n",
            "Testing with the list: 10249506 943982854 971335768 \n",
            "The efficient solution gives the result 916924310468921872\n",
            "The comparison solution gives the result 916924310468921872\n",
            "The solution is correct OK\n",
            "-------------------------------------------------\n"
          ]
        }
      ]
    },
    {
      "cell_type": "markdown",
      "source": [
        "#Python"
      ],
      "metadata": {
        "id": "z-pJQSay1Sj4"
      }
    },
    {
      "cell_type": "code",
      "source": [
        "import random\n",
        "def max_pairwise_product_sort(numbers):\n",
        "  numbers.sort(reverse=True)\n",
        "  return numbers[0] * numbers[1]\n",
        "\n",
        "def max_pairwise_product(numbers):\n",
        "    n = len(numbers)\n",
        "    max_product = 0\n",
        "\n",
        "    for first in range(n):\n",
        "        for second in range(n):\n",
        "            if first != second:\n",
        "                aux_product = numbers[first] * numbers[second]\n",
        "\n",
        "                if aux_product > max_product:\n",
        "                  max_product = aux_product\n",
        "\n",
        "    return max_product\n",
        "\n",
        "\n",
        "for _ in range(20):  # Run the test 20 times\n",
        "    n = random.randint(2, 12)  # Use a large n\n",
        "    numbers = [random.randint(1, 10**9) for _ in range(n)]  # Generate n random numbers between 1 and 10^9\n",
        "\n",
        "    print(\"-------------------------------------------------\")\n",
        "    print(f\"Testing with the list: {numbers}\")\n",
        "    print(f\"The efficient solution gives the result {max_pairwise_product_sort(numbers)}\")\n",
        "    print(f\"The comparison solution gives the result {max_pairwise_product(numbers)}\")\n",
        "    if max_pairwise_product_sort(numbers) == max_pairwise_product(numbers):\n",
        "        print(\"The solution is correct OK\")\n",
        "    else:\n",
        "        print(\"ERROR\")\n",
        "    print(\"-------------------------------------------------\")"
      ],
      "metadata": {
        "id": "sgup4zLx1URy",
        "colab": {
          "base_uri": "https://localhost:8080/"
        },
        "outputId": "d22de3db-95e8-40d5-d373-8a7c0b21a8cf"
      },
      "execution_count": 114,
      "outputs": [
        {
          "output_type": "stream",
          "name": "stdout",
          "text": [
            "-------------------------------------------------\n",
            "Testing with the list: [754684391, 896219838, 160437189, 764313767, 42332974, 790540047, 558242653]\n",
            "The efficient solution gives the result 708497672854852386\n",
            "The comparison solution gives the result 708497672854852386\n",
            "The solution is correct OK\n",
            "-------------------------------------------------\n",
            "-------------------------------------------------\n",
            "Testing with the list: [407752971, 716880274, 248131913, 706850861, 463222471, 33254130, 538302400, 647368639, 464236858, 424847127]\n",
            "The efficient solution gives the result 506727438910815914\n",
            "The comparison solution gives the result 506727438910815914\n",
            "The solution is correct OK\n",
            "-------------------------------------------------\n",
            "-------------------------------------------------\n",
            "Testing with the list: [464211585, 442297809, 706808913, 40006347]\n",
            "The efficient solution gives the result 328108885795857105\n",
            "The comparison solution gives the result 328108885795857105\n",
            "The solution is correct OK\n",
            "-------------------------------------------------\n",
            "-------------------------------------------------\n",
            "Testing with the list: [534853808, 774573262, 98656753, 505246737, 24888842]\n",
            "The efficient solution gives the result 414283458755681696\n",
            "The comparison solution gives the result 414283458755681696\n",
            "The solution is correct OK\n",
            "-------------------------------------------------\n",
            "-------------------------------------------------\n",
            "Testing with the list: [634483515, 199308022, 46025069, 669809, 210319824, 353526884, 163457811, 838138915]\n",
            "The efficient solution gives the result 531785324847486225\n",
            "The comparison solution gives the result 531785324847486225\n",
            "The solution is correct OK\n",
            "-------------------------------------------------\n",
            "-------------------------------------------------\n",
            "Testing with the list: [816510036, 645578777, 970447652, 197677340]\n",
            "The efficient solution gives the result 792380247270635472\n",
            "The comparison solution gives the result 792380247270635472\n",
            "The solution is correct OK\n",
            "-------------------------------------------------\n",
            "-------------------------------------------------\n",
            "Testing with the list: [976719390, 421230839, 861263582]\n",
            "The efficient solution gives the result 841212840440254980\n",
            "The comparison solution gives the result 841212840440254980\n",
            "The solution is correct OK\n",
            "-------------------------------------------------\n",
            "-------------------------------------------------\n",
            "Testing with the list: [197668209, 487899140, 355096726, 403831996, 118102302, 300747500, 391779055]\n",
            "The efficient solution gives the result 197029283552883440\n",
            "The comparison solution gives the result 197029283552883440\n",
            "The solution is correct OK\n",
            "-------------------------------------------------\n",
            "-------------------------------------------------\n",
            "Testing with the list: [542228668, 739110847, 238406769, 688598221, 358791022, 500610855, 879133702, 58113487, 637046826]\n",
            "The efficient solution gives the result 649777255111465594\n",
            "The comparison solution gives the result 649777255111465594\n",
            "The solution is correct OK\n",
            "-------------------------------------------------\n",
            "-------------------------------------------------\n",
            "Testing with the list: [527857754, 235246619, 573816368, 356764890, 846882463, 343272898, 138617180, 85015156]\n",
            "The efficient solution gives the result 485955019041554384\n",
            "The comparison solution gives the result 485955019041554384\n",
            "The solution is correct OK\n",
            "-------------------------------------------------\n",
            "-------------------------------------------------\n",
            "Testing with the list: [577653108, 758220057, 475725350, 588247676, 70042938, 550085174, 89818290, 645042812]\n",
            "The efficient solution gives the result 489084397682080284\n",
            "The comparison solution gives the result 489084397682080284\n",
            "The solution is correct OK\n",
            "-------------------------------------------------\n",
            "-------------------------------------------------\n",
            "Testing with the list: [141010531, 649467477, 91034995, 239013377]\n",
            "The efficient solution gives the result 155231414929439829\n",
            "The comparison solution gives the result 155231414929439829\n",
            "The solution is correct OK\n",
            "-------------------------------------------------\n",
            "-------------------------------------------------\n",
            "Testing with the list: [297060856, 683352885, 998155983, 722282274, 149671422, 780212755, 661064052, 542085503, 344977901, 88503975]\n",
            "The efficient solution gives the result 778774029416163165\n",
            "The comparison solution gives the result 778774029416163165\n",
            "The solution is correct OK\n",
            "-------------------------------------------------\n",
            "-------------------------------------------------\n",
            "Testing with the list: [398512276, 876029338, 975683429, 826688575, 144890376, 784345057, 836462401, 507464285]\n",
            "The efficient solution gives the result 854727308404440002\n",
            "The comparison solution gives the result 854727308404440002\n",
            "The solution is correct OK\n",
            "-------------------------------------------------\n",
            "-------------------------------------------------\n",
            "Testing with the list: [350188133, 300426028, 871414496, 61229974, 422831931, 764050479, 651669503, 282255453, 383158339, 277345065, 759861107]\n",
            "The efficient solution gives the result 665804663076343584\n",
            "The comparison solution gives the result 665804663076343584\n",
            "The solution is correct OK\n",
            "-------------------------------------------------\n",
            "-------------------------------------------------\n",
            "Testing with the list: [92282800, 221006381, 834574911, 907970680, 38494193, 977817830, 647565046, 76804350]\n",
            "The efficient solution gives the result 887829920021224400\n",
            "The comparison solution gives the result 887829920021224400\n",
            "The solution is correct OK\n",
            "-------------------------------------------------\n",
            "-------------------------------------------------\n",
            "Testing with the list: [466246554, 652457441, 360790722, 600062717]\n",
            "The efficient solution gives the result 391515384773327197\n",
            "The comparison solution gives the result 391515384773327197\n",
            "The solution is correct OK\n",
            "-------------------------------------------------\n",
            "-------------------------------------------------\n",
            "Testing with the list: [293137071, 361960272, 207843674, 232231013, 166672039, 127349021, 431112917, 921010890, 823668385, 656800542]\n",
            "The efficient solution gives the result 758607552333712650\n",
            "The comparison solution gives the result 758607552333712650\n",
            "The solution is correct OK\n",
            "-------------------------------------------------\n",
            "-------------------------------------------------\n",
            "Testing with the list: [777444407, 686794381, 659785944, 481748063, 623891505, 333931079]\n",
            "The efficient solution gives the result 533944450267477067\n",
            "The comparison solution gives the result 533944450267477067\n",
            "The solution is correct OK\n",
            "-------------------------------------------------\n",
            "-------------------------------------------------\n",
            "Testing with the list: [817675302, 101771105, 878718801]\n",
            "The efficient solution gives the result 718506660980752902\n",
            "The comparison solution gives the result 718506660980752902\n",
            "The solution is correct OK\n",
            "-------------------------------------------------\n"
          ]
        }
      ]
    }
  ],
  "metadata": {
    "colab": {
      "provenance": []
    },
    "kernelspec": {
      "display_name": "Python 3",
      "name": "python3"
    },
    "language_info": {
      "name": "python"
    }
  },
  "nbformat": 4,
  "nbformat_minor": 0
}